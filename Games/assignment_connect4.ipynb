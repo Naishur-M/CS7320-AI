{
 "cells": [
  {
   "cell_type": "markdown",
   "metadata": {},
   "source": [
    "# Adversarial Search: Playing Connect 4\n",
    "\n",
    "\n",
    "## Instructions\n",
    "\n",
    "Total Points: Undegraduates 10, graduate students 11\n",
    "\n",
    "Complete this notebook and submit it. The notebook needs to be a complete project report with your implementation, documentation including a short discussion of how your implementation works and your design choices, and experimental results (e.g., tables and charts with simulation results) with a short discussion of what they mean. Use the provided notebook cells and insert additional code and markdown cells as needed.\n",
    "\n",
    "## Introduction\n",
    "\n",
    "You will implement different versions of agents that play Connect 4:\n",
    "\n",
    "> \"Connect 4 is a two-player connection board game, in which the players choose a color and then take turns dropping colored discs into a seven-column, six-row vertically suspended grid. The pieces fall straight down, occupying the lowest available space within the column. The objective of the game is to be the first to form a horizontal, vertical, or diagonal line of four of one's own discs.\" (see [Connect Four on Wikipedia](https://en.wikipedia.org/wiki/Connect_Four))\n",
    "\n",
    "Note that [Connect-4 has been solved](https://en.wikipedia.org/wiki/Connect_Four#Mathematical_solution)\n",
    "in 1988. A connect-4 solver with a discussion of how to solve different parts of the problem can be found here: https://connect4.gamesolver.org/en/"
   ]
  },
  {
   "cell_type": "markdown",
   "metadata": {},
   "source": [
    "## Task 1: Defining the Search Problem [1 point]\n",
    "\n",
    "Define the components of the search problem:\n",
    "\n",
    "* Initial state\n",
    "* Actions\n",
    "* Transition model\n",
    "* Goal state"
   ]
  },
  {
   "cell_type": "code",
   "execution_count": 2,
   "metadata": {},
   "outputs": [],
   "source": [
    "# Your code/answer goes here."
   ]
  },
  {
   "cell_type": "markdown",
   "metadata": {},
   "source": [
    "How big is the state space? Give an estimate and explain it."
   ]
  },
  {
   "cell_type": "code",
   "execution_count": 3,
   "metadata": {},
   "outputs": [],
   "source": [
    "# Your code/ answer goes here."
   ]
  },
  {
   "cell_type": "markdown",
   "metadata": {},
   "source": [
    "How big is the game tree that minimax search will go through? Give an estimate and explain it."
   ]
  },
  {
   "cell_type": "code",
   "execution_count": 4,
   "metadata": {},
   "outputs": [],
   "source": [
    "# Your code/ answer goes here."
   ]
  },
  {
   "cell_type": "markdown",
   "metadata": {},
   "source": [
    "## Task 2: Game Environment and Random Agent [2 point]\n",
    "\n",
    "Use a numpy character array as the board."
   ]
  },
  {
   "cell_type": "code",
   "execution_count": 5,
   "metadata": {},
   "outputs": [
    {
     "name": "stdout",
     "output_type": "stream",
     "text": [
      "[[0 0 0 0 0 0 0]\n",
      " [0 0 0 0 0 0 0]\n",
      " [0 0 0 0 0 0 0]\n",
      " [0 0 0 0 0 0 0]\n",
      " [0 0 0 0 0 0 0]\n",
      " [0 0 0 0 0 0 0]]\n"
     ]
    }
   ],
   "source": [
    "import numpy as np\n",
    "\n",
    "def empty_board(shape=(6, 7)):\n",
    "    return np.full(shape=shape, fill_value=0)\n",
    "\n",
    "print(empty_board())"
   ]
  },
  {
   "cell_type": "code",
   "execution_count": 6,
   "metadata": {},
   "outputs": [
    {
     "name": "stdout",
     "output_type": "stream",
     "text": [
      "[[0 0 0 0]\n",
      " [0 0 0 0]\n",
      " [0 0 0 0]\n",
      " [0 0 0 0]]\n"
     ]
    }
   ],
   "source": [
    "import numpy as np\n",
    "\n",
    "def custom_board(x,y):\n",
    "    shape=(x, y)\n",
    "    return np.full(shape=shape, fill_value=0)\n",
    "\n",
    "print(custom_board(4,4))"
   ]
  },
  {
   "cell_type": "markdown",
   "metadata": {},
   "source": [
    "Instead of colors (red and yellow), I use 1 and -1 to represent the players. Make sure that your agent functions all have the from: `agent_type(board, player = 1)`, where board is the current board position and player is the player whose next move it is and who the agent should play."
   ]
  },
  {
   "cell_type": "code",
   "execution_count": 7,
   "metadata": {
    "scrolled": true
   },
   "outputs": [
    {
     "data": {
      "image/png": "[encoded data removed]",
      "text/plain": [
       "<Figure size 432x288 with 1 Axes>"
      ]
     },
     "metadata": {
      "needs_background": "light"
     },
     "output_type": "display_data"
    }
   ],
   "source": [
    "# Visualization code by Randolph Rankin\n",
    "\n",
    "import matplotlib.pyplot as plt\n",
    "\n",
    "def visualize(board):\n",
    "    plt.axes()\n",
    "    rectangle=plt.Rectangle((-0.5,len(board)*-1+0.5),len(board[0]),len(board),fc='blue')\n",
    "    circles=[]\n",
    "    for i,row in enumerate(board):\n",
    "        for j,val in enumerate(row):\n",
    "            color='white' if val==0 else 'red' if val==1 else 'yellow'\n",
    "            circles.append(plt.Circle((j,i*-1),0.4,fc=color))\n",
    "\n",
    "    plt.gca().add_patch(rectangle)\n",
    "    for circle in circles:\n",
    "        plt.gca().add_patch(circle)\n",
    "\n",
    "    plt.axis('scaled')\n",
    "    plt.show()\n",
    "    \n",
    "board = [[1, 0, 0, 0, 0, 0, 0],\n",
    "         [-1, -1, 0, 0, 0, 0, 0],\n",
    "         [1, 1, 0, 0, 0, 0, 0],\n",
    "         [1, -1, 0, 0, 0, 0, 0],\n",
    "         [1, 1, 0, 0, 0, 0, 0],\n",
    "         [1, -1, 1, -1, 1, -1, 0]]\n",
    "visualize(board)"
   ]
  },
  {
   "cell_type": "code",
   "execution_count": 8,
   "metadata": {},
   "outputs": [
    {
     "name": "stdout",
     "output_type": "stream",
     "text": [
      "6\n",
      "7\n"
     ]
    }
   ],
   "source": [
    "print(len(board))\n",
    "print(len(board[0]))"
   ]
  },
  {
   "cell_type": "markdown",
   "metadata": {},
   "source": [
    "Implement helper functions for:\n",
    "\n",
    "* The transition model $result(s, a)$.\n",
    "* The utility function $utility(s)$.\n",
    "* Check for terminal states $terminal(s)$.\n",
    "* A check for available actions in each state $actions(s)$.\n",
    "\n",
    "Make sure that all these functions work with boards of different sizes (number of columns and rows)."
   ]
  },
  {
   "cell_type": "code",
   "execution_count": 9,
   "metadata": {},
   "outputs": [
    {
     "data": {
      "image/png": "[encoded data removed]",
      "text/plain": [
       "<Figure size 432x288 with 1 Axes>"
      ]
     },
     "metadata": {
      "needs_background": "light"
     },
     "output_type": "display_data"
    },
    {
     "name": "stdout",
     "output_type": "stream",
     "text": [
      "[(0, 1), (4, 2), (4, 3), (4, 4), (4, 5), (5, 6)]\n",
      "False\n"
     ]
    }
   ],
   "source": [
    "# Your code/ answer goes here.\n",
    "def result(state, player, action):\n",
    "    if(state[action[0]][action[1]] != 0):\n",
    "        print(\"Error: Illegal move!\")\n",
    "        print(action)\n",
    "        #visualize(state)\n",
    "        return state\n",
    "    \n",
    "    state = np.copy(state)\n",
    "    state[action[0]][action[1]] = int(player)\n",
    "        \n",
    "    return state\n",
    "    \n",
    "def actions(state):\n",
    "    actions = []\n",
    "    rows = len(state)\n",
    "    cols = len(state[0])\n",
    "    for col in range(cols):\n",
    "        for row in range(rows):\n",
    "            i = state[row][col]\n",
    "            #print(row,col)\n",
    "            if(row == 0 and i != 0):\n",
    "                break\n",
    "            if(i == 1 or i == -1):\n",
    "                thistuple = (row-1,col)\n",
    "                actions.append(thistuple)\n",
    "                break\n",
    "            if(row == (rows-1) and i == 0):\n",
    "                thistuple = (row,col)\n",
    "                actions.append(thistuple)\n",
    "            \n",
    "    return actions\n",
    "        \n",
    "    \n",
    "def check_board(state):\n",
    "    rows = len(state)\n",
    "    cols = len(state[0])\n",
    "    \n",
    "    for col in range(cols -3):\n",
    "        for row in range(rows):\n",
    "            tile1 = state[row][col]\n",
    "            tile2 = state[row][col+1]\n",
    "            tile3 = state[row][col+2]\n",
    "            tile4 = state[row][col+3]\n",
    "            if tile1 == tile2 == tile3 == tile4 == 1:\n",
    "                return 1\n",
    "            if  tile1 == tile2 == tile3 == tile4 == -1:\n",
    "                return -1\n",
    "    \n",
    "    for col in range(cols):\n",
    "        for row in range(rows -3):\n",
    "            tile1 = state[row][col]\n",
    "            tile2 = state[row+1][col]\n",
    "            tile3 = state[row+2][col]\n",
    "            tile4 = state[row+3][col]\n",
    "            if tile1 == tile2 == tile3 == tile4 == 1:\n",
    "                return 1\n",
    "            if  tile1 == tile2 == tile3 == tile4 == -1:\n",
    "                return -1\n",
    "    \n",
    "    for col in range(cols-3):\n",
    "        for row in range(rows -3):\n",
    "            tile1 = state[row][col]\n",
    "            tile2 = state[row+1][col+1]\n",
    "            tile3 = state[row+2][col+2]\n",
    "            tile4 = state[row+3][col+3]\n",
    "            if tile1 == tile2 == tile3 == tile4 == 1:\n",
    "                return 1\n",
    "            if  tile1 == tile2 == tile3 == tile4 == -1:\n",
    "                return -1\n",
    "            \n",
    "            tile1 = state[row][col+3]\n",
    "            tile2 = state[row+1][col+2]\n",
    "            tile3 = state[row+2][col+1]\n",
    "            tile4 = state[row+3][col]\n",
    "            if tile1 == tile2 == tile3 == tile4 == 1:\n",
    "                return 1\n",
    "            if  tile1 == tile2 == tile3 == tile4 == -1:\n",
    "                return -1\n",
    "            \n",
    "    counter = 0\n",
    "    for col in range(cols):\n",
    "        i = state[0][col]\n",
    "        if(i != 0):\n",
    "            counter += 1\n",
    "        elif(i == 0):\n",
    "            return 'n'\n",
    "            break\n",
    "        if((counter+1) == cols):\n",
    "            return 'd'\n",
    "            \n",
    "    return 'n'\n",
    "\n",
    "def terminal(state, player = '1', draw_is_win = True):\n",
    "    if player == '1': other = '-1'\n",
    "    else: other = '1'\n",
    "    \n",
    "    goal = check_board(state)\n",
    "    #print(goal)\n",
    "    if goal == False:\n",
    "        rows = len(state)\n",
    "        cols = len(state[0])\n",
    "        counter = 0\n",
    "        for col in range(cols):\n",
    "            i = state[0][col]\n",
    "            if(i != 0):\n",
    "                counter += 1\n",
    "            elif(i == 0):\n",
    "                goal = 'n'\n",
    "                break\n",
    "        if((counter+1) == cols):\n",
    "            goal = 'd'\n",
    "        \n",
    "                \n",
    "    if goal == player: return 'win'\n",
    "    if goal == 'd':\n",
    "        if draw_is_win: return 'draw'\n",
    "        else: return None\n",
    "        \n",
    "    if goal == other: return None\n",
    "    return False\n",
    "    \n",
    "def utility(state, player = '1'):\n",
    "    goal = check_board(state)\n",
    "    if goal == False:\n",
    "        rows = len(state)\n",
    "        cols = len(state[0])\n",
    "        counter = 0\n",
    "        for col in range(cols):\n",
    "            i = state[0][col]\n",
    "            if(i != 0):\n",
    "                counter += 1\n",
    "            elif(i == 0):\n",
    "                goal = 'n'\n",
    "                break\n",
    "        if((counter+1) == cols):\n",
    "            goal = 'd'\n",
    "            \n",
    "    if str(goal) == player: return +1\n",
    "    if goal == 'd': return 0\n",
    "    if str(goal) == other(player): return -1\n",
    "    return None\n",
    "\n",
    "def other(player): \n",
    "    if player == '1': return '-1'\n",
    "    else: return '1'\n",
    "    \n",
    "visualize(board)\n",
    "action = actions(board)\n",
    "print(action)\n",
    "print(terminal(board))"
   ]
  },
  {
   "cell_type": "markdown",
   "metadata": {},
   "source": [
    "Implement an agent that plays randomly. Make sure the agent function receives as the percept the board and returns a valid action. Use an agent function definition with the following signature (arguments):\n",
    "\n",
    "`def random_player(board, player = None): ...`\n",
    "\n",
    "The argument `player` is used for agents that do not store what side they are playing. The value passed on bt yhe environment should be 1 ot -1 for playerred and yellow, respectively.  See [Experiments section for tic-tac-toe](https://nbviewer.org/github/mhahsler/CS7320-AI/blob/master/Games/tictactoe_and_or_tree_search.ipynb#Experiments) for an example."
   ]
  },
  {
   "cell_type": "code",
   "execution_count": 10,
   "metadata": {},
   "outputs": [],
   "source": [
    "# Your code/ answer goes here.\n",
    "import random\n",
    "def random_player(state, player = '1'):\n",
    "    action = actions(state)\n",
    "    return random.choice(action)"
   ]
  },
  {
   "cell_type": "markdown",
   "metadata": {},
   "source": [
    "Let two random agents play against each other 1000 times. Look at the [Experiments section for tic-tac-toe](https://nbviewer.org/github/mhahsler/CS7320-AI/blob/master/Games/tictactoe_and_or_tree_search.ipynb#Experiments) to see how the environment uses the agent functions to play against each other.\n",
    "\n",
    "How often does each player win? Is the result expected?"
   ]
  },
  {
   "cell_type": "code",
   "execution_count": 11,
   "metadata": {
    "tags": []
   },
   "outputs": [],
   "source": [
    "# Your code/ answer goes here.\n",
    "def switch_player(player, x, o):\n",
    "    if player == '1':\n",
    "        return '-1', o\n",
    "    else:\n",
    "        return '1', x\n",
    "\n",
    "def play(x, o, N = 100):\n",
    "    \"\"\"Let two agents play each other N times. x starts. x and y are agent functions that \n",
    "    get the board as the percept and return their next action.\"\"\"\n",
    "    results = {'1': 0, '-1': 0, 'd': 0}\n",
    "    \n",
    "    for i in range(N):\n",
    "        test_board = empty_board()\n",
    "        player, fun = '1', x\n",
    "        while True:\n",
    "            a = fun(test_board, player)\n",
    "            #print(a)\n",
    "            test_board = result(test_board, player, a)\n",
    "            #visualize(test_board)\n",
    "            win = check_board(test_board)   # returns the 'n' if the game is not done.\n",
    "\n",
    "            if str(win) != 'n':\n",
    "                results[str(win)] += 1\n",
    "                break\n",
    "            \n",
    "            player, fun = switch_player(player, x, o)   \n",
    "    \n",
    "    return results"
   ]
  },
  {
   "cell_type": "code",
   "execution_count": 12,
   "metadata": {},
   "outputs": [
    {
     "data": {
      "text/plain": [
       "{'1': 60, '-1': 40, 'd': 0}"
      ]
     },
     "metadata": {},
     "output_type": "display_data"
    },
    {
     "name": "stdout",
     "output_type": "stream",
     "text": [
      "CPU times: total: 188 ms\n",
      "Wall time: 183 ms\n"
     ]
    }
   ],
   "source": [
    "%time display(play(random_player, random_player, N = 100))"
   ]
  },
  {
   "cell_type": "markdown",
   "metadata": {},
   "source": [
    "## Task 3: Minimax Search with Alpha-Beta Pruning [4 points]\n",
    "\n",
    "### Implement the search starting.\n",
    "\n",
    "Implement the search starting from a given board and specifying the player and put it into an agent function.\n",
    "You can use code from the [tic-tac-toe example](https://nbviewer.org/github/mhahsler/CS7320-AI/blob/master/Games/tictactoe_alpha_beta_tree_search.ipynb).\n",
    "\n",
    "__Notes:__ \n",
    "* Make sure that all your agent functions have a signature consistent with the random agent above.\n",
    "* The search space for a $6 \\times 7$ board is large. You can experiment with smaller boards (the smallest is $4 \\times 4$) and/or changing the winning rule to connect 3 instead of 4."
   ]
  },
  {
   "cell_type": "code",
   "execution_count": 37,
   "metadata": {},
   "outputs": [],
   "source": [
    "# Your code/ answer goes here.\n",
    "def minimax_search(board, player = '1'):\n",
    "    \"\"\"start the search.\"\"\"\n",
    "    global DEBUG, COUNT\n",
    "    COUNT = 0\n",
    "    \n",
    "    value, move = max_value(board, player)\n",
    "    \n",
    "    if DEBUG >= 1: print(f\"Number of nodes searched: {COUNT}\") \n",
    " \n",
    "    #return { \"move\": move, \"value\": value}\n",
    "    return move\n",
    "\n",
    "def max_value(state, player):\n",
    "    \"\"\"player's best move.\"\"\"\n",
    "    global DEBUG, COUNT\n",
    "    COUNT += 1\n",
    "    \n",
    "    # return utility of state if it is a terminal state\n",
    "    v = utility(state, player)\n",
    "    if DEBUG >= 2: print(\"max in: \" + str(state) + str([v]) ) \n",
    "    if v is not None: return v, None\n",
    "        \n",
    "    v, move = -math.inf, None\n",
    "\n",
    "    # check all possible actions in the state, return move with the largest value\n",
    "    for a in actions(state):\n",
    "        #print(a)\n",
    "        v2, a2 = min_value(result(state, player, a), player)\n",
    "        if v2 > v:\n",
    "            v, move = v2, a\n",
    "    \n",
    "    if DEBUG >= 2: print(\"max out: \" + str(state) + str([v, move]) ) \n",
    "    return v, move\n",
    "\n",
    "def min_value(state, player):\n",
    "    \"\"\"opponent's best response.\"\"\"\n",
    "    global DEBUG, COUNT\n",
    "    COUNT += 1\n",
    "    \n",
    "    # return utility of state if it is a terminal state\n",
    "    v = utility(state, player)\n",
    "    if DEBUG >= 2: print(\"min in: \" + str(state) + str([v]) ) \n",
    "    if v is not None: return v, None\n",
    "    \n",
    "    v, move = +math.inf, None\n",
    "\n",
    "    # check all possible actions in the state, return move with the smallest value\n",
    "    for a in actions(state):\n",
    "        v2, a2 = max_value(result(state, other(player), a), player)\n",
    "        if v2 < v:\n",
    "            v, move = v2, a\n",
    "    \n",
    "    if DEBUG >= 2: print(\"min out: \" + str(state) + str([v, move]) ) \n",
    "    return v, move"
   ]
  },
  {
   "cell_type": "markdown",
   "metadata": {},
   "source": [
    "Experiment with some manually created boards (at least 5) to check if the agent spots winning opportunities."
   ]
  },
  {
   "cell_type": "code",
   "execution_count": 38,
   "metadata": {},
   "outputs": [
    {
     "data": {
      "image/png": "[encoded data removed]",
      "text/plain": [
       "<Figure size 432x288 with 1 Axes>"
      ]
     },
     "metadata": {
      "needs_background": "light"
     },
     "output_type": "display_data"
    },
    {
     "name": "stdout",
     "output_type": "stream",
     "text": [
      "Number of nodes searched: 8732\n"
     ]
    },
    {
     "data": {
      "text/plain": [
       "(3, 3)"
      ]
     },
     "metadata": {},
     "output_type": "display_data"
    },
    {
     "name": "stdout",
     "output_type": "stream",
     "text": [
      "CPU times: total: 156 ms\n",
      "Wall time: 148 ms\n"
     ]
    }
   ],
   "source": [
    "# Your code/ answer goes here.\n",
    "import math\n",
    "board = custom_board(4,4)\n",
    "board[3][0] = 1\n",
    "board[3][1] = 1\n",
    "board[3][2] = 1\n",
    "board[2][0] = -1\n",
    "board[2][2] = -1\n",
    "board[1][0] = -1\n",
    "visualize(board)\n",
    "\n",
    "DEBUG = 1\n",
    "COUNT = 0\n",
    "%time display(minimax_search(board))"
   ]
  },
  {
   "cell_type": "code",
   "execution_count": 15,
   "metadata": {},
   "outputs": [
    {
     "data": {
      "image/png": "[encoded data removed]",
      "text/plain": [
       "<Figure size 432x288 with 1 Axes>"
      ]
     },
     "metadata": {
      "needs_background": "light"
     },
     "output_type": "display_data"
    },
    {
     "name": "stdout",
     "output_type": "stream",
     "text": [
      "Number of nodes searched: 13783\n"
     ]
    },
    {
     "data": {
      "text/plain": [
       "{'move': (0, 0), 'value': 1}"
      ]
     },
     "metadata": {},
     "output_type": "display_data"
    },
    {
     "name": "stdout",
     "output_type": "stream",
     "text": [
      "CPU times: total: 219 ms\n",
      "Wall time: 208 ms\n"
     ]
    }
   ],
   "source": [
    "board = custom_board(4,4)\n",
    "board[3][0] = 1\n",
    "board[3][1] = -1\n",
    "board[3][2] = -1\n",
    "board[2][0] = 1\n",
    "board[2][2] = -1\n",
    "board[1][0] = 1\n",
    "visualize(board)\n",
    "\n",
    "DEBUG = 1\n",
    "COUNT = 0\n",
    "%time display(minimax_search(board))"
   ]
  },
  {
   "cell_type": "code",
   "execution_count": 16,
   "metadata": {},
   "outputs": [
    {
     "data": {
      "image/png": "[encoded data removed]",
      "text/plain": [
       "<Figure size 432x288 with 1 Axes>"
      ]
     },
     "metadata": {
      "needs_background": "light"
     },
     "output_type": "display_data"
    },
    {
     "name": "stdout",
     "output_type": "stream",
     "text": [
      "Number of nodes searched: 135\n"
     ]
    },
    {
     "data": {
      "text/plain": [
       "{'move': (2, 2), 'value': 0}"
      ]
     },
     "metadata": {},
     "output_type": "display_data"
    },
    {
     "name": "stdout",
     "output_type": "stream",
     "text": [
      "CPU times: total: 0 ns\n",
      "Wall time: 2.97 ms\n"
     ]
    }
   ],
   "source": [
    "board =  [[-1, 0, 0, 0],\n",
    "         [-1, -1, 0, 0],\n",
    "         [1, 1, 0, 0],\n",
    "         [1, -1, 1, -1]]\n",
    "\n",
    "visualize(board)\n",
    "\n",
    "DEBUG = 1\n",
    "COUNT = 0\n",
    "%time display(minimax_search(board))"
   ]
  },
  {
   "cell_type": "code",
   "execution_count": 17,
   "metadata": {},
   "outputs": [
    {
     "data": {
      "image/png": "[encoded data removed]",
      "text/plain": [
       "<Figure size 432x288 with 1 Axes>"
      ]
     },
     "metadata": {
      "needs_background": "light"
     },
     "output_type": "display_data"
    },
    {
     "name": "stdout",
     "output_type": "stream",
     "text": [
      "Number of nodes searched: 2\n"
     ]
    },
    {
     "data": {
      "text/plain": [
       "{'move': (0, 2), 'value': 0}"
      ]
     },
     "metadata": {},
     "output_type": "display_data"
    },
    {
     "name": "stdout",
     "output_type": "stream",
     "text": [
      "CPU times: total: 0 ns\n",
      "Wall time: 993 µs\n"
     ]
    }
   ],
   "source": [
    "board =  [[1,-1, 0, 1],\n",
    "         [-1, -1, -1, 1],\n",
    "         [1, 1, 1, -1],\n",
    "         [1, -1, 1, -1]]\n",
    "\n",
    "visualize(board)\n",
    "\n",
    "DEBUG = 1\n",
    "COUNT = 0\n",
    "%time display(minimax_search(board))"
   ]
  },
  {
   "cell_type": "code",
   "execution_count": 36,
   "metadata": {},
   "outputs": [
    {
     "data": {
      "image/png": "[encoded data removed]",
      "text/plain": [
       "<Figure size 432x288 with 1 Axes>"
      ]
     },
     "metadata": {
      "needs_background": "light"
     },
     "output_type": "display_data"
    },
    {
     "name": "stdout",
     "output_type": "stream",
     "text": [
      "Number of nodes searched: 4463\n"
     ]
    },
    {
     "data": {
      "text/plain": [
       "{'move': (1, 3), 'value': 0}"
      ]
     },
     "metadata": {},
     "output_type": "display_data"
    },
    {
     "name": "stdout",
     "output_type": "stream",
     "text": [
      "CPU times: total: 93.8 ms\n",
      "Wall time: 73.9 ms\n"
     ]
    }
   ],
   "source": [
    "board =  [[0, 0, 0, 0],\n",
    "         [0, 0, 0, 0],\n",
    "         [1, -1, 1, -1],\n",
    "         [1, -1, 1, -1]]\n",
    "\n",
    "visualize(board)\n",
    "\n",
    "DEBUG = 1\n",
    "COUNT = 0\n",
    "\n",
    "%time display(minimax_search(board))"
   ]
  },
  {
   "cell_type": "markdown",
   "metadata": {},
   "source": [
    "How long does it take to make a move? Start with a smaller board with 4 columns and make the board larger by adding columns."
   ]
  },
  {
   "cell_type": "markdown",
   "metadata": {},
   "source": [
    "A 4 x 4 board has a state space of 3^16 which is 43,046,721"
   ]
  },
  {
   "cell_type": "code",
   "execution_count": 19,
   "metadata": {
    "scrolled": true
   },
   "outputs": [
    {
     "data": {
      "image/png": "[encoded data removed]",
      "text/plain": [
       "<Figure size 432x288 with 1 Axes>"
      ]
     },
     "metadata": {
      "needs_background": "light"
     },
     "output_type": "display_data"
    },
    {
     "name": "stdout",
     "output_type": "stream",
     "text": [
      "Number of nodes searched: 7750458\n"
     ]
    },
    {
     "data": {
      "text/plain": [
       "{'move': (2, 0), 'value': 0}"
      ]
     },
     "metadata": {},
     "output_type": "display_data"
    },
    {
     "name": "stdout",
     "output_type": "stream",
     "text": [
      "CPU times: total: 1min 58s\n",
      "Wall time: 1min 58s\n"
     ]
    }
   ],
   "source": [
    "# Your code/ answer goes here.\n",
    "board =  [[0, 0, 0, 0],\n",
    "         [0, 0, 0, 0],\n",
    "         [0, 0, 0, 0],\n",
    "         [1, -1, 0, 0]]\n",
    "\n",
    "visualize(board)\n",
    "\n",
    "DEBUG = 1\n",
    "COUNT = 0\n",
    "%time display(minimax_search(board))"
   ]
  },
  {
   "cell_type": "markdown",
   "metadata": {},
   "source": [
    "A 5 x 5 board has a state space of 3^25 which is 847,288,609,443"
   ]
  },
  {
   "cell_type": "code",
   "execution_count": 24,
   "metadata": {},
   "outputs": [
    {
     "data": {
      "image/png": "[encoded data removed]",
      "text/plain": [
       "<Figure size 432x288 with 1 Axes>"
      ]
     },
     "metadata": {
      "needs_background": "light"
     },
     "output_type": "display_data"
    },
    {
     "name": "stdout",
     "output_type": "stream",
     "text": [
      "Number of nodes searched: 10048084\n"
     ]
    },
    {
     "data": {
      "text/plain": [
       "{'move': (2, 3), 'value': 0}"
      ]
     },
     "metadata": {},
     "output_type": "display_data"
    },
    {
     "name": "stdout",
     "output_type": "stream",
     "text": [
      "CPU times: total: 3min 42s\n",
      "Wall time: 3min 43s\n"
     ]
    }
   ],
   "source": [
    "board =  [[0, 0, 0, 0, 0],\n",
    "         [0, 0, 0, 0, 0],\n",
    "         [-1, 1, 0, 0, 0],\n",
    "         [1, -1, 1, -1, 1]]\n",
    "\n",
    "visualize(board)\n",
    "\n",
    "DEBUG = 1\n",
    "COUNT = 0\n",
    "%time display(minimax_search(board))"
   ]
  },
  {
   "cell_type": "markdown",
   "metadata": {},
   "source": [
    "As the board size increases the state space increases and the tree size gorws exponentially. "
   ]
  },
  {
   "cell_type": "markdown",
   "metadata": {},
   "source": [
    "### Move ordering\n",
    "\n",
    "Starting the search with better moves will increase the efficiency of alpha-beta pruning. Describe and implement a simple move ordering strategy. Make a table that shows how the ordering strategies influence the time it takes to make a move?"
   ]
  },
  {
   "cell_type": "code",
   "execution_count": 20,
   "metadata": {},
   "outputs": [],
   "source": [
    "# Your code/ answer goes here.\n",
    "def sort_list(list1, list2):\n",
    " \n",
    "    zipped_pairs = zip(list2, list1)\n",
    " \n",
    "    z = [x for _, x in sorted(zipped_pairs)]\n",
    " \n",
    "    return z\n",
    "\n",
    "def actions(state):\n",
    "    actions = []\n",
    "    rows = len(state)\n",
    "    cols = len(state[0])\n",
    "    for col in range(cols):\n",
    "        for row in range(rows):\n",
    "            i = state[row][col]\n",
    "            #print(row,col)\n",
    "            if(row == 0 and i != 0):\n",
    "                break\n",
    "            if(i == 1 or i == -1):\n",
    "                thistuple = (row-1,col)\n",
    "                actions.append(thistuple)\n",
    "                break\n",
    "            if(row == (rows-1) and i == 0):\n",
    "                thistuple = (row,col)\n",
    "                actions.append(thistuple)\n",
    "                \n",
    "    priority =  [[1, 0, 0, 1],\n",
    "                 [0, 2, 2, 0],\n",
    "                 [0, 2, 2, 0],\n",
    "                 [1, 0, 0, 1]]\n",
    "    priority = [(1,1),(2,1),(1,2),(2,2),(0,0),(3,0),(0,3),(3,3)]\n",
    "    \n",
    "    #print(sort_list(actions, priority))\n",
    "    \n",
    "    actions =[a for _,a in sorted(zip(priority,actions), reverse=True)]\n",
    "            \n",
    "    return actions"
   ]
  },
  {
   "cell_type": "code",
   "execution_count": 21,
   "metadata": {},
   "outputs": [
    {
     "data": {
      "image/png": "[encoded data removed]",
      "text/plain": [
       "<Figure size 432x288 with 1 Axes>"
      ]
     },
     "metadata": {
      "needs_background": "light"
     },
     "output_type": "display_data"
    },
    {
     "name": "stdout",
     "output_type": "stream",
     "text": [
      "Number of nodes searched: 7750458\n"
     ]
    },
    {
     "data": {
      "text/plain": [
       "{'move': (3, 3), 'value': 0}"
      ]
     },
     "metadata": {},
     "output_type": "display_data"
    },
    {
     "name": "stdout",
     "output_type": "stream",
     "text": [
      "CPU times: total: 2min 3s\n",
      "Wall time: 2min 3s\n"
     ]
    }
   ],
   "source": [
    "board =  [[0, 0, 0, 0],\n",
    "         [0, 0, 0, 0],\n",
    "         [0, 0, 0, 0],\n",
    "         [1, -1, 0, 0]]\n",
    "\n",
    "visualize(board)\n",
    "\n",
    "DEBUG = 1\n",
    "COUNT = 0\n",
    "%time display(minimax_search(board))"
   ]
  },
  {
   "cell_type": "markdown",
   "metadata": {},
   "source": [
    "### The first few moves\n",
    "\n",
    "Start with an empty board. This is the worst case scenario for minimax search with alpha-beta pruning since it needs solve all possible games that can be played (minus some pruning) before making the decision. What can you do? "
   ]
  },
  {
   "cell_type": "markdown",
   "metadata": {},
   "source": [
    "I ran a senario where there was already two placed pices on the board that took two minuites to run which is not a reasnable amount of time. "
   ]
  },
  {
   "cell_type": "code",
   "execution_count": 21,
   "metadata": {},
   "outputs": [
    {
     "data": {
      "image/png": "[encoded data removed]",
      "text/plain": [
       "<Figure size 432x288 with 1 Axes>"
      ]
     },
     "metadata": {
      "needs_background": "light"
     },
     "output_type": "display_data"
    },
    {
     "name": "stdout",
     "output_type": "stream",
     "text": [
      "Number of nodes searched: 2224389\n"
     ]
    },
    {
     "data": {
      "text/plain": [
       "{'move': (3, 3), 'value': 0}"
      ]
     },
     "metadata": {},
     "output_type": "display_data"
    },
    {
     "name": "stdout",
     "output_type": "stream",
     "text": [
      "CPU times: total: 35.7 s\n",
      "Wall time: 35.8 s\n"
     ]
    }
   ],
   "source": [
    "# Your code/ answer goes here.\n",
    "board =  [[0, 0, 0, 0],\n",
    "         [0, 0, 0, 0],\n",
    "         [0, 0, 0, 0],\n",
    "         [1, -1, 1, 0]]\n",
    "\n",
    "visualize(board)\n",
    "\n",
    "DEBUG = 1\n",
    "COUNT = 0\n",
    "%time display(minimax_search(board))"
   ]
  },
  {
   "cell_type": "code",
   "execution_count": 22,
   "metadata": {},
   "outputs": [
    {
     "data": {
      "image/png": "[encoded data removed]",
      "text/plain": [
       "<Figure size 432x288 with 1 Axes>"
      ]
     },
     "metadata": {
      "needs_background": "light"
     },
     "output_type": "display_data"
    },
    {
     "name": "stdout",
     "output_type": "stream",
     "text": [
      "Number of nodes searched: 717109\n"
     ]
    },
    {
     "data": {
      "text/plain": [
       "{'move': (2, 3), 'value': 0}"
      ]
     },
     "metadata": {},
     "output_type": "display_data"
    },
    {
     "name": "stdout",
     "output_type": "stream",
     "text": [
      "CPU times: total: 11.1 s\n",
      "Wall time: 11.1 s\n"
     ]
    }
   ],
   "source": [
    "board =  [[0, 0, 0, 0],\n",
    "         [0, 0, 0, 0],\n",
    "         [0, 0, 0, 0],\n",
    "         [1, -1, 1, -1]]\n",
    "\n",
    "visualize(board)\n",
    "\n",
    "DEBUG = 1\n",
    "COUNT = 0\n",
    "%time display(minimax_search(board))"
   ]
  },
  {
   "cell_type": "markdown",
   "metadata": {},
   "source": [
    "### Playtime\n",
    "\n",
    "Let the Minimax Search agent play a random agent on a small board. Analyze wins, losses and draws."
   ]
  },
  {
   "cell_type": "code",
   "execution_count": 43,
   "metadata": {},
   "outputs": [],
   "source": [
    "# Your code/ answer goes here.\n",
    "def switch_player(player, x, o):\n",
    "    if player == '1':\n",
    "        return '-1', o\n",
    "    else:\n",
    "        return '1', x\n",
    "\n",
    "def play(x, o, N = 100):\n",
    "    \"\"\"Let two agents play each other N times. x starts. x and y are agent functions that \n",
    "    get the board as the percept and return their next action.\"\"\"\n",
    "    results = {'1': 0, '-1': 0, 'd': 0}\n",
    "    moves = 0\n",
    "    \n",
    "    for i in range(N):\n",
    "        test_board = custom_board(4,4)\n",
    "        player, fun = '1', x\n",
    "        if moves == 4: \n",
    "            x = minimax_search\n",
    "        while True:\n",
    "            a = fun(test_board, player)\n",
    "            #print(a)\n",
    "            test_board = result(test_board, player, a)\n",
    "            #visualize(test_board)\n",
    "            win = check_board(test_board)   # returns the 'n' if the game is not done.\n",
    "            moves += 1\n",
    "            if str(win) != 'n':\n",
    "                results[str(win)] += 1\n",
    "                break\n",
    "            \n",
    "            player, fun = switch_player(player, x, o)   \n",
    "    \n",
    "    return results"
   ]
  },
  {
   "cell_type": "code",
   "execution_count": 46,
   "metadata": {},
   "outputs": [
    {
     "data": {
      "text/plain": [
       "{'1': 32, '-1': 19, 'd': 49}"
      ]
     },
     "metadata": {},
     "output_type": "display_data"
    },
    {
     "name": "stdout",
     "output_type": "stream",
     "text": [
      "CPU times: total: 31.2 ms\n",
      "Wall time: 32.7 ms\n"
     ]
    }
   ],
   "source": [
    "%time display(play(random_player, random_player, N = 100))"
   ]
  },
  {
   "cell_type": "markdown",
   "metadata": {},
   "source": [
    "## Task 4: Heuristic Alpha-Beta Tree Search [3 points] \n",
    "\n",
    "### Heuristic evaluation function\n",
    "\n",
    "Define and implement a heuristic evaluation function."
   ]
  },
  {
   "cell_type": "code",
   "execution_count": 47,
   "metadata": {},
   "outputs": [],
   "source": [
    "# Your code/ answer goes here.\n",
    "def eval_fun(state, player = '1'):\n",
    "    \n",
    "    # terminal state?\n",
    "    u = utility(state, player)\n",
    "    if u is not None: return u, True\n",
    "      \n",
    "    score = 0\n",
    "    rows = len(state)\n",
    "    cols = len(state[0])\n",
    "    \n",
    "    for col in range(cols -3):\n",
    "        for row in range(rows):\n",
    "            tile1 = state[row][col]\n",
    "            tile2 = state[row][col+1]\n",
    "            tile3 = state[row][col+2]\n",
    "            tile4 = state[row][col+3]\n",
    "            if tile1 == tile2 == 1:\n",
    "                score += .4\n",
    "            if  tile1 == tile2 -1:\n",
    "                score -= .4\n",
    "    \n",
    "    for col in range(cols):\n",
    "        for row in range(rows -3):\n",
    "            tile1 = state[row][col]\n",
    "            tile2 = state[row+1][col]\n",
    "            tile3 = state[row+2][col]\n",
    "            tile4 = state[row+3][col]\n",
    "            if tile1 == tile2 == 1:\n",
    "                score += .4\n",
    "            if  tile1 == tile2 == -1:\n",
    "                score -= .4\n",
    "    \n",
    "    for col in range(cols-3):\n",
    "        for row in range(rows -3):\n",
    "            tile1 = state[row][col]\n",
    "            tile2 = state[row+1][col+1]\n",
    "            tile3 = state[row+2][col+2]\n",
    "            tile4 = state[row+3][col+3]\n",
    "            if tile1 == tile2 == 1:\n",
    "                score += .4\n",
    "            if  tile1 == tile2 == -1:\n",
    "                score -= .4\n",
    "            \n",
    "            tile1 = state[row][col+3]\n",
    "            tile2 = state[row+1][col+2]\n",
    "            tile3 = state[row+2][col+1]\n",
    "            tile4 = state[row+3][col]\n",
    "            if tile1 == tile2 == 1:\n",
    "                score += .4\n",
    "            if  tile1 == tile2 == -1:\n",
    "                score -= .4\n",
    "                \n",
    "    return score, False"
   ]
  },
  {
   "cell_type": "markdown",
   "metadata": {},
   "source": [
    "### Cutting off search \n",
    "\n",
    "Modify your Minimax Search with Alpha-Beta Pruning to cut off search at a specified depth and use the heuristic evaluation function. Experiment with different cutoff values."
   ]
  },
  {
   "cell_type": "code",
   "execution_count": 51,
   "metadata": {},
   "outputs": [],
   "source": [
    "# Your code/ answer goes here.\n",
    "DEBUG = 1 # 1 ... count nodes, 2 ... debug each node\n",
    "COUNT = 0\n",
    "\n",
    "def alpha_beta_search(board, cutoff = None, player = '1'):\n",
    "    \"\"\"start the search. cutoff = None is minimax search with alpha-beta pruning.\"\"\"\n",
    "    global DEBUG, COUNT\n",
    "    COUNT = 0\n",
    "\n",
    "    value, move = max_value_ab(board, player, -math.inf, +math.inf, 0, cutoff)\n",
    "    \n",
    "    if DEBUG >= 1: print(f\"Number of nodes searched (cutoff = {cutoff}): {COUNT}\") \n",
    "    \n",
    "    return {\"move\": move, \"value\": value}\n",
    "\n",
    "def max_value_ab(state, player, alpha, beta, depth, cutoff):\n",
    "    \"\"\"player's best move.\"\"\"\n",
    "    global DEBUG, COUNT\n",
    "    COUNT += 1\n",
    "    \n",
    "    # cut off and terminal test\n",
    "    v, terminal = eval_fun(state, player)\n",
    "    if((cutoff is not None and depth >= cutoff) or terminal): \n",
    "        if(terminal): \n",
    "            alpha, beta = v, v\n",
    "        if DEBUG >= 2: print(f\"stopped at {depth}: {state} term: {terminal} eval: {v} [{alpha}, {beta}]\" ) \n",
    "        return v, None\n",
    "    \n",
    "    v, move = -math.inf, None\n",
    "\n",
    "    # check all possible actions in the state, update alpha and return move with the largest value\n",
    "    for a in actions(state):\n",
    "        v2, a2 = min_value_ab(result(state, player, a), player, alpha, beta, depth + 1, cutoff)\n",
    "        if v2 > v:\n",
    "            v, move = v2, a\n",
    "            alpha = max(alpha, v)\n",
    "        if v >= beta: return v, move\n",
    "    \n",
    "    return v, move\n",
    "\n",
    "def min_value_ab(state, player, alpha, beta, depth, cutoff):\n",
    "    \"\"\"opponent's best response.\"\"\"\n",
    "    global DEBUG, COUNT\n",
    "    COUNT += 1\n",
    "    \n",
    "    # cut off and terminal test\n",
    "    v, terminal = eval_fun(state, player)\n",
    "    if((cutoff is not None and depth >= cutoff) or terminal): \n",
    "        if(terminal): \n",
    "            alpha, beta = v, v\n",
    "        if DEBUG >= 2: print(f\"stopped at {depth}: {state} term: {terminal} eval: {v} [{alpha}, {beta}]\" ) \n",
    "        return v, None\n",
    "    \n",
    "    v, move = +math.inf, None\n",
    "\n",
    "    # check all possible actions in the state, update beta and return move with the smallest value\n",
    "    for a in actions(state):\n",
    "        v2, a2 = max_value_ab(result(state, other(player), a), player, alpha, beta, depth + 1, cutoff)\n",
    "        if v2 < v:\n",
    "            v, move = v2, a\n",
    "            beta = min(beta, v)\n",
    "        if v <= alpha: return v, move\n",
    "    \n",
    "    return v, move"
   ]
  },
  {
   "cell_type": "code",
   "execution_count": 55,
   "metadata": {},
   "outputs": [
    {
     "data": {
      "image/png": "[encoded data removed]",
      "text/plain": [
       "<Figure size 432x288 with 1 Axes>"
      ]
     },
     "metadata": {
      "needs_background": "light"
     },
     "output_type": "display_data"
    },
    {
     "name": "stdout",
     "output_type": "stream",
     "text": [
      "\n",
      "Number of nodes searched (cutoff = 2): 11\n"
     ]
    },
    {
     "data": {
      "text/plain": [
       "{'move': (1, 1), 'value': 0.8}"
      ]
     },
     "metadata": {},
     "output_type": "display_data"
    },
    {
     "name": "stdout",
     "output_type": "stream",
     "text": [
      "CPU times: total: 0 ns\n",
      "Wall time: 992 µs\n",
      "Number of nodes searched (cutoff = 4): 47\n"
     ]
    },
    {
     "data": {
      "text/plain": [
       "{'move': (1, 3), 'value': 0.4}"
      ]
     },
     "metadata": {},
     "output_type": "display_data"
    },
    {
     "name": "stdout",
     "output_type": "stream",
     "text": [
      "CPU times: total: 0 ns\n",
      "Wall time: 2.48 ms\n",
      "Number of nodes searched (cutoff = 8): 50\n"
     ]
    },
    {
     "data": {
      "text/plain": [
       "{'move': (1, 2), 'value': 0}"
      ]
     },
     "metadata": {},
     "output_type": "display_data"
    },
    {
     "name": "stdout",
     "output_type": "stream",
     "text": [
      "CPU times: total: 0 ns\n",
      "Wall time: 2.48 ms\n"
     ]
    }
   ],
   "source": [
    "board =  [[1, 0, 0, 0],\n",
    "         [-1, 0, 0, 0],\n",
    "         [1, 1, 1, -1],\n",
    "         [1, -1, 1, -1]]\n",
    "\n",
    "visualize(board)\n",
    "\n",
    "DEBUG = 1\n",
    "COUNT = 0\n",
    "\n",
    "print()\n",
    "%time display(alpha_beta_search(board, 2))\n",
    "\n",
    "%time display(alpha_beta_search(board, 4))\n",
    "\n",
    "%time display(alpha_beta_search(board, 8))"
   ]
  },
  {
   "cell_type": "code",
   "execution_count": 58,
   "metadata": {},
   "outputs": [
    {
     "data": {
      "image/png": "[encoded data removed]",
      "text/plain": [
       "<Figure size 432x288 with 1 Axes>"
      ]
     },
     "metadata": {
      "needs_background": "light"
     },
     "output_type": "display_data"
    },
    {
     "name": "stdout",
     "output_type": "stream",
     "text": [
      "\n",
      "Number of nodes searched (cutoff = 2): 18\n"
     ]
    },
    {
     "data": {
      "text/plain": [
       "{'move': (2, 3), 'value': -0.4}"
      ]
     },
     "metadata": {},
     "output_type": "display_data"
    },
    {
     "name": "stdout",
     "output_type": "stream",
     "text": [
      "CPU times: total: 0 ns\n",
      "Wall time: 1.48 ms\n",
      "Number of nodes searched (cutoff = 4): 141\n"
     ]
    },
    {
     "data": {
      "text/plain": [
       "{'move': (1, 1), 'value': 0.0}"
      ]
     },
     "metadata": {},
     "output_type": "display_data"
    },
    {
     "name": "stdout",
     "output_type": "stream",
     "text": [
      "CPU times: total: 15.6 ms\n",
      "Wall time: 5.93 ms\n",
      "Number of nodes searched (cutoff = 8): 3656\n"
     ]
    },
    {
     "data": {
      "text/plain": [
       "{'move': (1, 1), 'value': 0.0}"
      ]
     },
     "metadata": {},
     "output_type": "display_data"
    },
    {
     "name": "stdout",
     "output_type": "stream",
     "text": [
      "CPU times: total: 93.8 ms\n",
      "Wall time: 97.2 ms\n"
     ]
    }
   ],
   "source": [
    "board =  [[0, 0, 0, 0],\n",
    "         [ 0, 0, 0, 0],\n",
    "         [1, -1, 0, 0],\n",
    "         [1, -1, 1, -1]]\n",
    "\n",
    "visualize(board)\n",
    "\n",
    "DEBUG = 1\n",
    "COUNT = 0\n",
    "\n",
    "print()\n",
    "%time display(alpha_beta_search(board, 2))\n",
    "\n",
    "%time display(alpha_beta_search(board, 4))\n",
    "\n",
    "%time display(alpha_beta_search(board, 8))"
   ]
  },
  {
   "cell_type": "code",
   "execution_count": 61,
   "metadata": {},
   "outputs": [
    {
     "data": {
      "image/png": "[encoded data removed]",
      "text/plain": [
       "<Figure size 432x288 with 1 Axes>"
      ]
     },
     "metadata": {
      "needs_background": "light"
     },
     "output_type": "display_data"
    },
    {
     "name": "stdout",
     "output_type": "stream",
     "text": [
      "\n",
      "Number of nodes searched (cutoff = 2): 18\n"
     ]
    },
    {
     "data": {
      "text/plain": [
       "{'move': (3, 3), 'value': -0.4}"
      ]
     },
     "metadata": {},
     "output_type": "display_data"
    },
    {
     "name": "stdout",
     "output_type": "stream",
     "text": [
      "CPU times: total: 0 ns\n",
      "Wall time: 1.46 ms\n",
      "Number of nodes searched (cutoff = 4): 151\n"
     ]
    },
    {
     "data": {
      "text/plain": [
       "{'move': (3, 3), 'value': -0.4}"
      ]
     },
     "metadata": {},
     "output_type": "display_data"
    },
    {
     "name": "stdout",
     "output_type": "stream",
     "text": [
      "CPU times: total: 0 ns\n",
      "Wall time: 5.46 ms\n",
      "Number of nodes searched (cutoff = 8): 3878\n"
     ]
    },
    {
     "data": {
      "text/plain": [
       "{'move': (2, 1), 'value': 0.0}"
      ]
     },
     "metadata": {},
     "output_type": "display_data"
    },
    {
     "name": "stdout",
     "output_type": "stream",
     "text": [
      "CPU times: total: 125 ms\n",
      "Wall time: 111 ms\n"
     ]
    }
   ],
   "source": [
    "board =  [[0, 0, 0, 0],\n",
    "         [ 0, 0, 0, 0],\n",
    "         [ 0, 0, 0, 0],\n",
    "         [1, -1, 0, 0]]\n",
    "\n",
    "visualize(board)\n",
    "\n",
    "DEBUG = 1\n",
    "COUNT = 0\n",
    "\n",
    "print()\n",
    "%time display(alpha_beta_search(board, 2))\n",
    "\n",
    "%time display(alpha_beta_search(board, 4))\n",
    "\n",
    "%time display(alpha_beta_search(board, 8))"
   ]
  },
  {
   "cell_type": "markdown",
   "metadata": {},
   "source": [
    "Experiment with the same manually created boards as above to check if the agent spots wining opportunities."
   ]
  },
  {
   "cell_type": "code",
   "execution_count": null,
   "metadata": {},
   "outputs": [],
   "source": [
    "# Your code/ answer goes here."
   ]
  },
  {
   "cell_type": "markdown",
   "metadata": {},
   "source": [
    "How long does it take to make a move? Start with a smaller board with 4 columns and make the board larger by adding columns."
   ]
  },
  {
   "cell_type": "code",
   "execution_count": null,
   "metadata": {},
   "outputs": [],
   "source": [
    "# Your code/ answer goes here."
   ]
  },
  {
   "cell_type": "markdown",
   "metadata": {},
   "source": [
    "### Playtime\n",
    "\n",
    "Let two heuristic search agents (different cutoff depth, different heuristic evaluation function) compete against each other on a reasonably sized board. Since there is no randomness, you only need to let them play once."
   ]
  },
  {
   "cell_type": "code",
   "execution_count": null,
   "metadata": {},
   "outputs": [],
   "source": [
    "# Your code/ answer goes here."
   ]
  },
  {
   "cell_type": "markdown",
   "metadata": {},
   "source": [
    "## Challenge task [+ 1 bonus point]\n",
    "\n",
    "Find another student and let your best agent play against the other student's best player. We will set up a class tournament on Canvas. This tournament will continue after the submission deadline."
   ]
  },
  {
   "cell_type": "markdown",
   "metadata": {},
   "source": [
    "## Graduate student advanced task: Pure Monte Carlo Search and Best First Move [1 point]\n",
    "\n",
    "__Undergraduate students:__ This is a bonus task you can attempt if you like [+1 Bonus point].\n",
    "\n",
    "### Pure Monte Carlo Search\n",
    "\n",
    "Implement Pure Monte Carlo Search and investigate how this search performs on the test boards that you have used above. "
   ]
  },
  {
   "cell_type": "code",
   "execution_count": null,
   "metadata": {},
   "outputs": [],
   "source": [
    "# Your code/ answer goes here."
   ]
  },
  {
   "cell_type": "markdown",
   "metadata": {},
   "source": [
    "### Best First Move\n",
    "\n",
    "How would you determine what the best first move is? You can use Pure Monte Carlo Search or any algorithms \n",
    "that you have implemented above."
   ]
  },
  {
   "cell_type": "code",
   "execution_count": null,
   "metadata": {},
   "outputs": [],
   "source": [
    "# Your code/ answer goes here."
   ]
  }
 ],
 "metadata": {
  "kernelspec": {
   "display_name": "Python 3 (ipykernel)",
   "language": "python",
   "name": "python3"
  },
  "language_info": {
   "codemirror_mode": {
    "name": "ipython",
    "version": 3
   },
   "file_extension": ".py",
   "mimetype": "text/x-python",
   "name": "python",
   "nbconvert_exporter": "python",
   "pygments_lexer": "ipython3",
   "version": "3.9.12"
  }
 },
 "nbformat": 4,
 "nbformat_minor": 4
}
