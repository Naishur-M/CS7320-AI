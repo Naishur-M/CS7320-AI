{
 "cells": [
  {
   "cell_type": "markdown",
   "metadata": {},
   "source": [
    "# Search: Solving a Maze Using a Goal-based Agent\n",
    "\n",
    "Student Name: [Add your name]\n",
    "\n",
    "## Instructions\n",
    "\n",
    "Total Points: Undergrads 100 / Graduate students 110\n",
    "\n",
    "Complete this notebook. Use the provided notebook cells and insert additional code and markdown cells as needed. Submit the completely rendered notebook as a PDF file. \n",
    "\n",
    "\n",
    "## Introduction\n",
    "\n",
    "The agent has a map of the maze it is in and the environment is assumed to be **deterministic, discrete, and known.** The agent must use the map to plan a path through the maze from the starting location $S$ to the goal location $G$.  This is a planing exercise for a goal-based agent, so you do not need to implement an environment, just use the map to search for a path. Once the plan is made, the agent in a deterministic environment (i.e., the transition function is deterministic with the outcome of each state/action pair fixed and no randomness) can just follow the path and does not need to care about the percepts.\n",
    "This is also called an **[open-loop system](https://en.wikipedia.org/wiki/Open-loop_controller).**\n",
    "The execution phase is trivial and we do not implement it in this exercise.\n",
    "\n",
    "Tree search algorithm implementations that you find online and used in general algorithms courses have often a different aim. These algorithms assume that you already have a tree in memory. We are interested in dynamically creating a search tree with the aim of finding a good/the best path from the root noteto the goal state. Follow the pseudo code presented in the text book (and replicated in the slides) closely. Ideally, we would like to search only a small part of the maze, i.e., create a search tree with as few nodes as possible. \n",
    "\n",
    "Several mazes for this exercise are stored as text files. Here is the small example maze:"
   ]
  },
  {
   "cell_type": "code",
   "execution_count": 1,
   "metadata": {},
   "outputs": [
    {
     "name": "stdout",
     "output_type": "stream",
     "text": [
      "XXXXXXXXXXXXXXXXXXXXXXXXXXXXXXXXXXXXX\n",
      "X                                  SX\n",
      "X            X                      X\n",
      "X            X                      X\n",
      "X            X                      X\n",
      "X            X                      X\n",
      "X            X                      X\n",
      "X            X      X               X\n",
      "X            X      X               X\n",
      "X            X      X               X\n",
      "X            X      X               X\n",
      "X            X      X               X\n",
      "X            X      X               X\n",
      "X            X      X               X\n",
      "XXXXXXXXXXXXXX      XXXXXXXXXXXXXXXXX\n",
      "X            X                      X\n",
      "X            X                      X\n",
      "X            X                      X\n",
      "X                                   X\n",
      "X                                   X\n",
      "X                                   X\n",
      "XG                                  X\n",
      "XXXXXXXXXXXXXXXXXXXXXXXXXXXXXXXXXXXXX\n",
      "\n"
     ]
    }
   ],
   "source": [
    "with open(\"open_maze.txt\", \"r\") as f:\n",
    "    maze_str = f.read()\n",
    "print(maze_str)"
   ]
  },
  {
   "cell_type": "markdown",
   "metadata": {},
   "source": [
    "__Note:__ The mazes above contains cycles and therefore the state space may not form proper trees unless cycles are prevented. Therfore, you will need to deal with cycle detection in your code."
   ]
  },
  {
   "cell_type": "markdown",
   "metadata": {},
   "source": [
    "## Parsing and pretty printing the maze\n",
    "\n",
    "The maze can also be displayed in color using code in the module [maze_helper.py](maze_helper.py). The code parses the string representing the maze and converts it into a `numpy` 2d array which you can use in your implementation. Position are represented as a 2-tuple of the form `(row, col)`. "
   ]
  },
  {
   "cell_type": "code",
   "execution_count": 2,
   "metadata": {
    "tags": []
   },
   "outputs": [
    {
     "name": "stdout",
     "output_type": "stream",
     "text": [
      "Position(0,0): X\n",
      "Position(8,1):  \n"
     ]
    }
   ],
   "source": [
    "import maze_helper as mh\n",
    "\n",
    "maze = mh.parse_maze(maze_str)\n",
    "\n",
    "# look at a position in the maze by subsetting the 2d array\n",
    "print(\"Position(0,0):\", maze[0, 0])\n",
    "\n",
    "# there is also a helper function called `look(maze, pos)` available\n",
    "# which uses a 2-tuple for the position.\n",
    "print(\"Position(8,1):\", mh.look(maze, (8, 1)))"
   ]
  },
  {
   "cell_type": "markdown",
   "metadata": {},
   "source": [
    "A helper function to visualize the maze is also available."
   ]
  },
  {
   "cell_type": "code",
   "execution_count": 3,
   "metadata": {},
   "outputs": [
    {
     "data": {
      "image/png": "[encoded data removed]",
      "text/plain": [
       "<Figure size 432x288 with 1 Axes>"
      ]
     },
     "metadata": {
      "image/png": {
       "height": 239,
       "width": 368
      },
      "needs_background": "light"
     },
     "output_type": "display_data"
    }
   ],
   "source": [
    "%matplotlib inline\n",
    "%config InlineBackend.figure_format = 'retina'\n",
    "# use higher resolution images in notebook\n",
    "\n",
    "mh.show_maze(maze)"
   ]
  },
  {
   "cell_type": "markdown",
   "metadata": {},
   "source": [
    "Find the position of the start and the goal using the helper function `find_pos()`"
   ]
  },
  {
   "cell_type": "code",
   "execution_count": 4,
   "metadata": {},
   "outputs": [
    {
     "name": "stdout",
     "output_type": "stream",
     "text": [
      "Start location: (1, 35)\n",
      "Goal location: (21, 1)\n"
     ]
    }
   ],
   "source": [
    "print(\"Start location:\", mh.find_pos(maze, what = \"S\"))\n",
    "print(\"Goal location:\", mh.find_pos(maze, what = \"G\"))"
   ]
  },
  {
   "cell_type": "markdown",
   "metadata": {},
   "source": [
    "Helper function documentation."
   ]
  },
  {
   "cell_type": "code",
   "execution_count": 5,
   "metadata": {},
   "outputs": [
    {
     "name": "stdout",
     "output_type": "stream",
     "text": [
      "Help on module maze_helper:\n",
      "\n",
      "NAME\n",
      "    maze_helper\n",
      "\n",
      "DESCRIPTION\n",
      "    Code for the Maze Assignment by Michael Hahsler\n",
      "    Usage: \n",
      "        import maze_helper as mh\n",
      "        mh.show_some_mazes()\n",
      "\n",
      "FUNCTIONS\n",
      "    find_pos(maze, what='S')\n",
      "        Find start/goal in a maze and returns the first one. \n",
      "        Caution: there is no error checking!\n",
      "        \n",
      "        Parameters:\n",
      "        maze: a array with characters prodced by parse_maze()\n",
      "        what: the letter to be found ('S' for start and 'G' for goal)\n",
      "        \n",
      "        Returns:\n",
      "        a tupple (x, y) for the found position.\n",
      "    \n",
      "    look(maze, pos)\n",
      "        Look at the label of a square with the position as an array of the form (x, y).\n",
      "    \n",
      "    parse_maze(maze_str)\n",
      "        Convert a maze as a string into a 2d numpy array\n",
      "    \n",
      "    show_maze(maze, fontsize=10)\n",
      "        Display a (parsed) maze as an image.\n",
      "    \n",
      "    welcome()\n",
      "        Welcome message.\n",
      "\n",
      "FILE\n",
      "    c:\\users\\naish\\desktop\\cs7320-ai\\search\\maze_helper.py\n",
      "\n",
      "\n"
     ]
    }
   ],
   "source": [
    "help(mh)"
   ]
  },
  {
   "cell_type": "markdown",
   "metadata": {},
   "source": [
    "## Tree structure\n",
    "\n",
    "Here is an implementation of the basic node structure for the search algorithms (see Fig 3.7 on page 73). I have added a method that extracts the path from the root node to the current node. It can be used to get the path when the search is completed."
   ]
  },
  {
   "cell_type": "code",
   "execution_count": 6,
   "metadata": {},
   "outputs": [],
   "source": [
    "class Node:\n",
    "    def __init__(self, pos, parent, action, cost):\n",
    "        self.pos = tuple(pos)    # the state; positions are (row,col)\n",
    "        self.parent = parent     # reference to parent node. None means root node.\n",
    "        self.action = action     # action used in the transition function (root node has None)\n",
    "        self.cost = cost         # for uniform cost this is the depth. It is also g(n) for A* search\n",
    "            \n",
    "    def __str__(self):\n",
    "        return f\"Node - pos = {self.pos}; action = {self.action}; cost = {self.cost}\"\n",
    "    \n",
    "    def get_path_from_root(self):\n",
    "        \"\"\"returns nodes on the path from the root to the current node.\"\"\"\n",
    "        node = self\n",
    "        path = [node]\n",
    "    \n",
    "        while not node.parent is None:\n",
    "            node = node.parent\n",
    "            path.append(node)\n",
    "        \n",
    "        path.reverse()\n",
    "        \n",
    "        return(path)\n",
    "    \n",
    "    def is_visited(self, row , col):\n",
    "        return(row, col) in self.visited"
   ]
  },
  {
   "cell_type": "markdown",
   "metadata": {},
   "source": [
    "If needed, then you can add more fields to the class like the heuristic value $h(n)$ or $f(n)$.\n",
    "\n",
    "Examples for how to create and use a tree and information on memory management can be found [here](../HOWTOs/trees.ipynb)."
   ]
  },
  {
   "cell_type": "markdown",
   "metadata": {},
   "source": [
    "# Tasks\n",
    "\n",
    "The goal is to:\n",
    "\n",
    "1. Implement the following search algorithms for solving different mazes:\n",
    "\n",
    "    - Breadth-first search (BFS)\n",
    "    - Depth-first search (DFS)\n",
    "    - Greedy best-first search (GBFS)\n",
    "    - A* search\n",
    "\n",
    "2. Run each of the above algorithms on the \n",
    "    - [small maze](small_maze.txt), \n",
    "    - [medium maze](medium_maze.txt), \n",
    "    - [large maze](large_maze.txt), \n",
    "    - [open maze](open_maze.txt),\n",
    "    - [wall maze](wall_maze.txt),\n",
    "    - [loops maze](loops_maze.txt),\n",
    "    - [empty maze](empty_maze.txt), and\n",
    "    - [empty 2_maze](empty_2_maze.txt).\n",
    "    \n",
    "3. For each problem instance and each search algorithm, report the following in a table:\n",
    "\n",
    "    - The solution and its path cost\n",
    "    - Total number of nodes expanded\n",
    "    - Maximum tree depth\n",
    "    - Maximum size of the frontier\n",
    "\n",
    "4. Display each solution by marking every maze square (or state) visited and the squares on the final path.\n",
    "\n",
    "## General [10 Points]\n",
    "\n",
    "1. Make sure that you use the latest version of this notebook. Sync your forked repository and pull the latest revision. \n",
    "2. Your implementation can use libraries like math, numpy, scipy, but not libraries that implement inteligent agents or complete search algorithms. Try to keep the code simple! In this course, we want to learn about the algorithms and we often do not need to use object-oriented design.\n",
    "3. You notebook needs to be formated professionally. \n",
    "    - Add additional markdown blocks for your description, comments in the code, add tables and use mathplotlib to produce charts where appropriate\n",
    "    - Do not show debugging output or include an excessive amount of output.\n",
    "    - Check that your PDF file is readable. For example, long lines are cut off in the PDF file. You don't have control over page breaks, so do not worry about these.\n",
    "4. Document your code. Add a short discussion of how your implementation works and your design choices."
   ]
  },
  {
   "cell_type": "markdown",
   "metadata": {},
   "source": [
    "## Task 1: Defining the search problem and determining the problem size [10 Points]\n",
    "\n",
    "Define the components of the search problem:\n",
    "\n",
    "* Initial state\n",
    "* Actions\n",
    "* Transition model\n",
    "* Goal state\n",
    "* Path cost\n",
    "\n",
    "Use verbal descriptions, variables and equations as appropriate. \n",
    "\n",
    "*Note:* You can swich the next block from code to Markdown and use formating."
   ]
  },
  {
   "cell_type": "markdown",
   "metadata": {},
   "source": [
    "# Your answer goes here\n",
    "\n",
    "Initial state: The inital state is the maze state in the files provided where mh.find_pos(maze, what = \"S\") depnds on where S is located in the maze\n",
    "\n",
    "Actions: The actions it could take would be moving north, west, south and east as long as there isn't a wall in the way\n",
    "\n",
    "Transition model: Going form a point A then moving to B based on the action it took. Depending on the Search the action taken is depended on where the node is stored in the frontier\n",
    "\n",
    "Goal State: The maze provided where mh.find_pos(maze, what = \"G\")\n",
    "\n",
    "Path Cost is the sum of the number of nodes that have been travered to get to the Goal "
   ]
  },
  {
   "cell_type": "markdown",
   "metadata": {},
   "source": [
    "Give some estimates for the problem size:\n",
    "\n",
    "* $n$: state space size\n",
    "* $d$: depth of the optimal solution\n",
    "* $m$: maximum depth of tree\n",
    "* $b$: maximum branching factor\n",
    "\n",
    "Describe how you would determin these values for a given maze."
   ]
  },
  {
   "cell_type": "markdown",
   "metadata": {},
   "source": [
    "# Your answer goes here\n",
    "\n",
    "n : state space size\n",
    "There are 3 states each point can be assuming there are no walls in frontier , explored and not explored and the maze can have varies sizes and also the order does not matter so n^3\n",
    "\n",
    "𝑑 : depth of the optimal solution\n",
    "The depth of the optimal solution is the shortest path that the cand be found fron S to G a BFS algorithum is a good wait to find d \n",
    "\n",
    "𝑚 : maximum depth of tree\n",
    "m is the number of points or node of the current path that is stored in data \n",
    "\n",
    "𝑏 : maximum branching factor\n",
    "b is the max number of actions at a single point the path could take "
   ]
  },
  {
   "cell_type": "markdown",
   "metadata": {},
   "source": [
    "## Task 2: Uninformed search: Breadth-first and depth-first [40 Points]\n",
    "\n",
    "Implement these search strategies. Follow the pseudocode in the textbook/slides. You can use the tree structure shown above to extract the final path from your solution.\n",
    "\n",
    "__Notes:__\n",
    "* You can find maze solving implementations online that use the map to store information. While this is an effective idea for this two-dimensional navigation problem, it typically cannot be used for other search problems. Therefore, follow the textbook and only store information in the tree created during search, and use the `reached` and `frontier` data structures.\n",
    "* DSF can be implemented using the BFS tree search algorithm and simply changing the order in which the frontier is expanded (this is equivalent to best-first search with path length as the criterion to expand the next node). However, to take advantage of the significantly smaller memory footprint of DFS, you need to implement DFS in a different way without a `reached` data structure and by releasing the memory for nodes that are not needed anymore. \n",
    "* If DFS does not use a `reached` data structure, then its cycle checking abilities are limited. Remember, that DSF is incomplete if cycles cannot be prevented. You will see in your experiments that open spaces are a problem."
   ]
  },
  {
   "cell_type": "code",
   "execution_count": 7,
   "metadata": {},
   "outputs": [
    {
     "name": "stdout",
     "output_type": "stream",
     "text": [
      "CPU times: total: 62.5 ms\n",
      "Wall time: 58.6 ms\n",
      "(21, 1)\n",
      "CPU times: total: 0 ns\n",
      "Wall time: 2.96 ms\n",
      "(5, 12)\n"
     ]
    }
   ],
   "source": [
    "# Your code goes here\n",
    "import queue\n",
    "import copy\n",
    "\n",
    "def Expand(problem, cur):\n",
    "    actions = []\n",
    "    \n",
    "    #loog at the top\n",
    "    #print(mh.look(problem,(cur.pos[0] -1, cur.pos[1])))\n",
    "    if cur.pos[0] > 0 and mh.look(problem,(cur.pos[0] -1, cur.pos[1])) != 'X':\n",
    "        temp = Node((cur.pos[0] -1, cur.pos[1]), cur, 'N', cur.cost+1)\n",
    "        #print(temp.pos)\n",
    "        actions.append(temp)\n",
    "    \n",
    "    #look at the right\n",
    "    #print(mh.look(problem,(cur.pos[0], cur.pos[1]+1)))\n",
    "    if mh.look(problem,(cur.pos[0], cur.pos[1]+1)) != 'X':\n",
    "        temp = Node((cur.pos[0], cur.pos[1]+1), cur, 'W', cur.cost+1)\n",
    "        #print(temp.pos)\n",
    "        actions.append(temp)\n",
    "        \n",
    "    #look at the bottom\n",
    "    #print(mh.look(problem,(cur.pos[0]+1, cur.pos[1])))\n",
    "    if mh.look(problem, (cur.pos[0]+1,cur.pos[1])) != 'X':\n",
    "        temp = Node((cur.pos[0]+1, cur.pos[1]), cur, 'S', cur.cost+1)\n",
    "        #print(temp.pos)\n",
    "        actions.append(temp)\n",
    "       \n",
    "    #look at the left\n",
    "    #print(mh.look(problem,(cur.pos[0], cur.pos[1]-1)))\n",
    "    if cur.pos[0] > 0 and mh.look(problem, (cur.pos[0],cur.pos[1]-1)) != 'X':\n",
    "        temp = Node((cur.pos[0], cur.pos[1]-1), cur, 'E', cur.cost+1)\n",
    "        #print(temp.pos)\n",
    "        actions.append(temp)\n",
    "    \n",
    "    return actions\n",
    "    \n",
    "    \n",
    "def Breadth_First_Search(maze):\n",
    "    \n",
    "    NODES_Expanded = 0\n",
    "    Max_Tree_depth = 0\n",
    "    Max_nodes_memory = 0\n",
    "    frontier_size = 0\n",
    "    \n",
    "    #store the start and end\n",
    "    node = Node(mh.find_pos(maze, what = \"S\"), None, None, 0)\n",
    "    endgoal = mh.find_pos(maze, what = \"G\")\n",
    "    #if the endgoal is equal to the start then we found the location\n",
    "    if(endgoal == node.pos):\n",
    "        return [node, NODES_Expanded, frontier_size, Max_nodes_memory]\n",
    "    #create frontier list and explored list \n",
    "    frontier = queue.Queue()\n",
    "    frontier.put(node)\n",
    "    explored = []\n",
    "    explored.append(node)\n",
    "    #contuine until the fronteir is not empty\n",
    "    while not frontier.empty():\n",
    "        #get the top node from the frontier\n",
    "        current = frontier.get()\n",
    "        #call actions function and storre result in a list\n",
    "        actions = Expand(maze,current)\n",
    "        # check to see is current postition is equal to the goal \n",
    "        if current.pos == endgoal:\n",
    "            return [current, NODES_Expanded, frontier_size, Max_nodes_memory]\n",
    "            \n",
    "        #for every actrion\n",
    "        for i in actions:\n",
    "            NODES_Expanded += 1\n",
    "            \n",
    "            #rename i to child\n",
    "            child = i\n",
    "            \n",
    "            #search the explored list and check to see if one of the actions is there\n",
    "            found = False\n",
    "            for j in explored:\n",
    "                if child.pos == j.pos:\n",
    "                    found = True\n",
    "                    \n",
    "            #If it's not found don't add it        \n",
    "            if found == False:\n",
    "                explored.append(child)\n",
    "                frontier_size += 1\n",
    "                frontier.put(child)\n",
    "                Max_nodes_memory = Max_nodes_memory +2\n",
    "\n",
    "    return [node, NODES_Expanded, frontier_size, Max_nodes_memory]\n",
    "\n",
    "%time node, nodes, size, memory = Breadth_First_Search(maze)\n",
    "\n",
    "print(node.pos)\n",
    "\n",
    "def Depth_Limited_Search(maze, l):\n",
    "    \n",
    "    NODES_Expanded = 0\n",
    "    Max_Tree_depth = 0\n",
    "    Max_nodes_memory = 0\n",
    "    frontier_size = 0\n",
    "    \n",
    "    #create frontier list\n",
    "    frontier = []\n",
    "    #store inital state and the endgoal\n",
    "    node = Node(mh.find_pos(maze, what = \"S\"), None, None, 0)\n",
    "    endgoal = mh.find_pos(maze, what = \"G\")\n",
    "    \n",
    "    #add the first node to the frontier\n",
    "    frontier.append(node)\n",
    "    #contuine until the fronteir is empty\n",
    "    while frontier:\n",
    "        #pop the first node in the frontier\n",
    "        current = frontier.pop()\n",
    "        #print(current.pos)\n",
    "        \n",
    "        #get the current path \n",
    "        cur_path = current.get_path_from_root()\n",
    "        path = []\n",
    "        #add hte postiton to the path list\n",
    "        for i in cur_path:\n",
    "            path.append(i.pos)\n",
    "        #check to see if the goal has been reached if so return the node\n",
    "        if(endgoal == current.pos):\n",
    "            return [current, NODES_Expanded, frontier_size, Max_nodes_memory]\n",
    "        #check to see if the current path cost is greater then the passed in limit if so return\n",
    "        if current.cost > l:\n",
    "            return [current, NODES_Expanded, frontier_size, Max_nodes_memory]\n",
    "        #call expand function and add it to an action list\n",
    "        actions = Expand(maze,current) \n",
    "        \n",
    "        #for i in actions list\n",
    "        for i in actions:\n",
    "            NODES_Expanded += 1\n",
    "            child = i\n",
    "            #check to see if the action is already in the fronteir\n",
    "            found = False\n",
    "            for j in frontier:\n",
    "                if j.pos == child.pos:\n",
    "                    found = True\n",
    "            #if the child position is not in the current path list and has not been in the frontier \n",
    "            #add it \n",
    "            if child.pos not in path and found == False:\n",
    "                frontier.append(child)\n",
    "                frontier_size += 1\n",
    "                Max_nodes_memory = Max_nodes_memory +1\n",
    "                \n",
    "    return [node, NODES_Expanded, frontier_size, Max_nodes_memory]\n",
    "\n",
    "%time node, nodes, size, memory = Depth_Limited_Search(maze, 100)\n",
    "\n",
    "print(node.pos)"
   ]
  },
  {
   "cell_type": "markdown",
   "metadata": {},
   "source": [
    "How does BFS and DFS deal with loops (cycles)?"
   ]
  },
  {
   "cell_type": "markdown",
   "metadata": {},
   "source": [
    "# Discussion\n",
    "BFS adds nodes around the starting position and slowly branches out so if it comes to a point where it has already taversed then it just goes to another point in the explored list this requires more space than DFS but it does not need any loop checking\n",
    "\n",
    "DFS implementation does not have a explored list so that way it can be memorey effecient but if the path it find is not efficent then the alogrithm does not have a good way to check for cycles in my implementation so DFS does not have a good way to deal with loops which causes a longer runtime"
   ]
  },
  {
   "cell_type": "markdown",
   "metadata": {},
   "source": [
    "Are your implementations complete and optimal? Explain why. What is the time and space complexity of each of **your** implementations?"
   ]
  },
  {
   "cell_type": "markdown",
   "metadata": {},
   "source": [
    "# Discussion\n",
    "Both of my implementations are from the pseudocode provided in the slides so BFS is complete since it can find a solution on all test mazes and the defintion of BFS garuintes it will find the optimal solution. DFS is not complete nor optimal DFS stuggles to find soltutions on the open mazes and if it find a solution that solution could have taken a long way around.\n",
    "\n",
    "Time \n",
    "BFS is O(b^d)\n",
    "DFS is O(b^m)\n",
    "\n",
    "space complexity\n",
    "BFS is O(b^d)\n",
    "DFS is b(bm)"
   ]
  },
  {
   "cell_type": "markdown",
   "metadata": {},
   "source": [
    "## Task 3: Informed search: Implement greedy best-first search and A* search  [20 Points]\n",
    "\n",
    "You can use the map to estimate the distance from your current position to the goal using the Manhattan distance (see https://en.wikipedia.org/wiki/Taxicab_geometry) as a heuristic function. Both algorithms are based on Best-First search which requires only a small change from the BFS algorithm you have already implemented (see textbook/slides). "
   ]
  },
  {
   "cell_type": "code",
   "execution_count": 8,
   "metadata": {},
   "outputs": [],
   "source": [
    "import random\n",
    "\n",
    "def directions(actions): \n",
    "    return random.shuffle(actions)\n"
   ]
  },
  {
   "cell_type": "code",
   "execution_count": 9,
   "metadata": {},
   "outputs": [
    {
     "name": "stdout",
     "output_type": "stream",
     "text": [
      "(5, 12)\n"
     ]
    }
   ],
   "source": [
    "# Your code goes here\n",
    "import math\n",
    "\n",
    "def myfunc(node):\n",
    "    return node.cost\n",
    "\n",
    "def hurestic_1(a,b):\n",
    "    x = abs(b[0] - a.pos[0])\n",
    "    y = abs(b[1] - a.pos[1])\n",
    "    return x+y\n",
    "\n",
    "def hurestic_2(a,b):\n",
    "    x = abs(b[0] - a.pos[0])\n",
    "    y = abs(b[1] - a.pos[1])\n",
    "    return x+y+a.cost\n",
    "    \n",
    "def Best_First_Search(problem,f):\n",
    "    \n",
    "    NODES_Expanded = 0\n",
    "    Max_Tree_depth = 0\n",
    "    Max_nodes_memory = 0\n",
    "    frontier_size = 0\n",
    "    \n",
    "    node = Node(mh.find_pos(maze, what = \"S\"), None, None, 0)\n",
    "    endgoal = mh.find_pos(maze, what = \"G\")\n",
    "    \n",
    "    node.cost = f(node, endgoal)\n",
    "    if(endgoal == node.pos):\n",
    "        return [node, NODES_Expanded, frontier_size]\n",
    "    \n",
    "    frontier = []\n",
    "    frontier.append(node)\n",
    "    reached = {}\n",
    "  \n",
    "    while frontier:\n",
    "        \n",
    "        frontier.sort(key=myfunc)\n",
    "\n",
    "        current = frontier.pop(0)\n",
    "        reached[current.pos] = current\n",
    "        #print(current.pos)\n",
    "        #if(current.pos != node.pos and current.pos != endgoal):\n",
    "        #    maze[current.pos[0]][current.pos[1]] = '.'\n",
    "        #    mh.show_maze(maze)\n",
    "\n",
    "        if(endgoal == current.pos):\n",
    "            return [current, NODES_Expanded, frontier_size, Max_nodes_memory]\n",
    "        \n",
    "        actions = Expand(maze,current)\n",
    "        directions(actions)\n",
    "        \n",
    "        for i in actions:\n",
    "            NODES_Expanded += 1\n",
    "            child = i\n",
    "            \n",
    "            child.cost = f(child, endgoal)  \n",
    "                    \n",
    "            if child not in reached:\n",
    "                frontier.append(child)\n",
    "            elif child.cost < reached[child.pos].cost:\n",
    "                del reached[child.pos]\n",
    "                reached[child.pos] = child\n",
    "                frontier.append(child)\n",
    "                frontier_size += 1\n",
    "                Max_nodes_memory = Max_nodes_memory +2\n",
    "\n",
    "\n",
    "    return node\n",
    "\n",
    "#node = Best_First_Search(maze,hurestic_1)\n",
    "\n",
    "#print(node.pos)\n",
    "\n",
    "def A_star(problem, f):\n",
    "    return Best_First_Search(problem,f)\n",
    "\n",
    "#%time node = A_star(maze,hurestic_1)\n",
    "\n",
    "print(node.pos)\n"
   ]
  },
  {
   "cell_type": "markdown",
   "metadata": {},
   "source": [
    "Are your implementations complete and optimal? What is the time and space complexity?"
   ]
  },
  {
   "cell_type": "markdown",
   "metadata": {},
   "source": [
    "# Discussion\n",
    "My implementations come from the pseudo code off of the slides based on that Gready Best First Search is complete, but only in finite spaces and it is not Optimal since the alrgoithum choose to go in a drirection which could technically be the shortest but since it's bascing it off a hurestic it might not always come choose the correct direction. Time is O(b^m) and space is O(b^m).There is a problem with the code in which GBFS and A*Star seem to suck in a cornor looking at the same nodes.\n",
    "\n",
    "A*star is the same as GBFS and is complete and optimal A*Star is guaranteed to find a solution and that solution is optimal since the hurestic function affected by it will always be the lowest path cost. The time and space complexity is f(n) <= C^e. A star like my GBFS has the same issue where it constantly getting into a cornor and not being bable to break out. "
   ]
  },
  {
   "cell_type": "markdown",
   "metadata": {},
   "source": [
    "## Task 4: Comparison and discussion [20 Points] \n",
    "\n",
    "Run experiments to compare the implemented algorithms.\n",
    "\n",
    "How to deal with issues:\n",
    "\n",
    "* Your implementation returns unexpected results: Try to debug and fix the code. Visualizing the maze, the current path and the frontier after every step is very helpful. If the code still does not work, then mark the result with an asterisk (*) and describe the issue below the table.\n",
    "\n",
    "* Your implementation cannot consistently solve a specific maze and ends up in an infinite loop:\n",
    "    Debug. If it is a shortcoming of the algorithm/implementation, then put \"N/A*\" in the results table and describe why this is happening."
   ]
  },
  {
   "cell_type": "code",
   "execution_count": 11,
   "metadata": {},
   "outputs": [
    {
     "name": "stdout",
     "output_type": "stream",
     "text": [
      "\u001b[1mSmall Maze\u001b[0m\n",
      "Breadth_First_Search\n",
      "Path cost: 19| # of nodes Expanded: 188| max tree depth: 20\n",
      "max # of nodes in memory: 186| max frontier size: 93\n",
      "Depth_Limited_Search\n",
      "Path cost: 29| # of nodes Expanded: 81| max tree depth: 30\n",
      "max # of nodes in memory: 43| max frontier size: 43\n",
      "\u001b[1mWall Maze\u001b[0m\n",
      "Breadth_First_Search\n",
      "Path cost: 14| # of nodes Expanded: 301| max tree depth: 15\n",
      "max # of nodes in memory: 180| max frontier size: 90\n",
      "Depth_Limited_Search\n",
      "Path cost: 48| # of nodes Expanded: 166| max tree depth: 49\n",
      "max # of nodes in memory: 82| max frontier size: 82\n",
      "\u001b[1mEmpty 2 Maze\u001b[0m\n",
      "Breadth_First_Search\n",
      "Path cost: 14| # of nodes Expanded: 345| max tree depth: 15\n",
      "max # of nodes in memory: 194| max frontier size: 97\n",
      "Depth_Limited_Search\n",
      "Path cost: 51| # of nodes Expanded: 179| max tree depth: 52\n",
      "max # of nodes in memory: 97| max frontier size: 97\n",
      "\u001b[1mEmpty Maze\u001b[0m\n",
      "Breadth_First_Search\n",
      "Path cost: 14| # of nodes Expanded: 345| max tree depth: 15\n",
      "max # of nodes in memory: 194| max frontier size: 97\n",
      "Depth_Limited_Search\n",
      "Path cost: 54| # of nodes Expanded: 241| max tree depth: 55\n",
      "max # of nodes in memory: 105| max frontier size: 105\n",
      "\u001b[1mL Maze\u001b[0m\n",
      "Breadth_First_Search\n",
      "Path cost: 14| # of nodes Expanded: 504| max tree depth: 15\n",
      "max # of nodes in memory: 300| max frontier size: 150\n",
      "Depth_Limited_Search\n",
      "Path cost: 76| # of nodes Expanded: 298| max tree depth: 77\n",
      "max # of nodes in memory: 147| max frontier size: 147\n",
      "\u001b[1mlarge Maze\u001b[0m\n",
      "Breadth_First_Search\n",
      "Path cost: 210| # of nodes Expanded: 1244| max tree depth: 211\n",
      "max # of nodes in memory: 1248| max frontier size: 624\n",
      "Depth_Limited_Search\n",
      "Path cost: 76| # of nodes Expanded: 226| max tree depth: 77\n",
      "max # of nodes in memory: 118| max frontier size: 118\n",
      "\u001b[1mLoops Maze\u001b[0m\n",
      "Breadth_First_Search\n",
      "Path cost: 23| # of nodes Expanded: 184| max tree depth: 24\n",
      "max # of nodes in memory: 142| max frontier size: 71\n",
      "Depth_Limited_Search\n",
      "Path cost: 27| # of nodes Expanded: 69| max tree depth: 28\n",
      "max # of nodes in memory: 40| max frontier size: 40\n",
      "\u001b[1mMedium Maze\u001b[0m\n",
      "Breadth_First_Search\n",
      "Path cost: 68| # of nodes Expanded: 551| max tree depth: 69\n",
      "max # of nodes in memory: 542| max frontier size: 271\n",
      "Depth_Limited_Search\n",
      "Path cost: 76| # of nodes Expanded: 155| max tree depth: 77\n",
      "max # of nodes in memory: 79| max frontier size: 79\n",
      "\u001b[1mOpen Maze\u001b[0m\n",
      "Breadth_First_Search\n",
      "Path cost: 54| # of nodes Expanded: 2518| max tree depth: 55\n",
      "max # of nodes in memory: 1366| max frontier size: 683\n",
      "Depth_Limited_Search\n",
      "Path cost: 76| # of nodes Expanded: 239| max tree depth: 77\n",
      "max # of nodes in memory: 143| max frontier size: 143\n"
     ]
    }
   ],
   "source": [
    "# Add code\n",
    "def hurestic_1(a,b):\n",
    "    x = abs(b[0] - a.pos[0])\n",
    "    y = abs(b[1] - a.pos[1])\n",
    "    return x+y\n",
    "\n",
    "\n",
    "import maze_helper as mh\n",
    "with open(\"small_maze.txt\", \"r\") as f:\n",
    "    maze_str = f.read()\n",
    "maze = mh.parse_maze(maze_str)\n",
    "\n",
    "print('\\033[1m' + 'Small Maze' + '\\033[0m')\n",
    "\n",
    "node, nodes, size, memory = Breadth_First_Search(maze)\n",
    "print(\"Breadth_First_Search\")\n",
    "print(f\"Path cost: {node.cost}\", end ='| ')\n",
    "print(f\"# of nodes Expanded: {nodes}\", end ='| ')\n",
    "print(f\"max tree depth: {len(node.get_path_from_root())}\")\n",
    "print(f\"max # of nodes in memory: {memory}\", end ='| ')\n",
    "print(f\"max frontier size: {size}\" )\n",
    "\n",
    "node, nodes, size, memory = Depth_Limited_Search(maze, 100) \n",
    "print(\"Depth_Limited_Search\")\n",
    "print(f\"Path cost: {node.cost}\", end ='| ')\n",
    "print(f\"# of nodes Expanded: {nodes}\", end ='| ')\n",
    "print(f\"max tree depth: {len(node.get_path_from_root())}\")\n",
    "print(f\"max # of nodes in memory: {memory}\", end ='| ')\n",
    "print(f\"max frontier size: {size}\" )\n",
    "\n",
    "\n",
    "with open(\"Wall_maze.txt\", \"r\") as f:\n",
    "    maze_str = f.read()\n",
    "maze = mh.parse_maze(maze_str)\n",
    "\n",
    "print('\\033[1m' + 'Wall Maze' + '\\033[0m')\n",
    "\n",
    "node, nodes, size, memory = Breadth_First_Search(maze)\n",
    "print(\"Breadth_First_Search\")\n",
    "print(f\"Path cost: {node.cost}\", end ='| ')\n",
    "print(f\"# of nodes Expanded: {nodes}\", end ='| ')\n",
    "print(f\"max tree depth: {len(node.get_path_from_root())}\")\n",
    "print(f\"max # of nodes in memory: {memory}\", end ='| ')\n",
    "print(f\"max frontier size: {size}\" )\n",
    "\n",
    "node, nodes, size, memory = Depth_Limited_Search(maze, 100) \n",
    "print(\"Depth_Limited_Search\")\n",
    "print(f\"Path cost: {node.cost}\", end ='| ')\n",
    "print(f\"# of nodes Expanded: {nodes}\", end ='| ')\n",
    "print(f\"max tree depth: {len(node.get_path_from_root())}\")\n",
    "print(f\"max # of nodes in memory: {memory}\", end ='| ')\n",
    "print(f\"max frontier size: {size}\" )\n",
    "\n",
    "with open(\"empty_2_maze.txt\", \"r\") as f:\n",
    "    maze_str = f.read()\n",
    "maze = mh.parse_maze(maze_str)\n",
    "\n",
    "print('\\033[1m' + 'Empty 2 Maze' + '\\033[0m')\n",
    "\n",
    "node, nodes, size, memory = Breadth_First_Search(maze)\n",
    "print(\"Breadth_First_Search\")\n",
    "print(f\"Path cost: {node.cost}\", end ='| ')\n",
    "print(f\"# of nodes Expanded: {nodes}\", end ='| ')\n",
    "print(f\"max tree depth: {len(node.get_path_from_root())}\")\n",
    "print(f\"max # of nodes in memory: {memory}\", end ='| ')\n",
    "print(f\"max frontier size: {size}\" )\n",
    "\n",
    "node, nodes, size, memory = Depth_Limited_Search(maze, 50) \n",
    "print(\"Depth_Limited_Search\")\n",
    "print(f\"Path cost: {node.cost}\", end ='| ')\n",
    "print(f\"# of nodes Expanded: {nodes}\", end ='| ')\n",
    "print(f\"max tree depth: {len(node.get_path_from_root())}\")\n",
    "print(f\"max # of nodes in memory: {memory}\", end ='| ')\n",
    "print(f\"max frontier size: {size}\" )\n",
    "\n",
    "with open(\"empty_maze.txt\", \"r\") as f:\n",
    "    maze_str = f.read()\n",
    "maze = mh.parse_maze(maze_str)\n",
    "\n",
    "print('\\033[1m' + 'Empty Maze' + '\\033[0m')\n",
    "\n",
    "node, nodes, size, memory = Breadth_First_Search(maze)\n",
    "print(\"Breadth_First_Search\")\n",
    "print(f\"Path cost: {node.cost}\", end ='| ')\n",
    "print(f\"# of nodes Expanded: {nodes}\", end ='| ')\n",
    "print(f\"max tree depth: {len(node.get_path_from_root())}\")\n",
    "print(f\"max # of nodes in memory: {memory}\", end ='| ')\n",
    "print(f\"max frontier size: {size}\" )\n",
    "\n",
    "node, nodes, size, memory = Depth_Limited_Search(maze, 75) \n",
    "print(\"Depth_Limited_Search\")\n",
    "print(f\"Path cost: {node.cost}\", end ='| ')\n",
    "print(f\"# of nodes Expanded: {nodes}\", end ='| ')\n",
    "print(f\"max tree depth: {len(node.get_path_from_root())}\")\n",
    "print(f\"max # of nodes in memory: {memory}\", end ='| ')\n",
    "print(f\"max frontier size: {size}\" )\n",
    "\n",
    "with open(\"L_maze.txt\", \"r\") as f:\n",
    "    maze_str = f.read()\n",
    "maze = mh.parse_maze(maze_str)\n",
    "\n",
    "print('\\033[1m' + 'L Maze' + '\\033[0m')\n",
    "\n",
    "node, nodes, size, memory = Breadth_First_Search(maze)\n",
    "print(\"Breadth_First_Search\")\n",
    "print(f\"Path cost: {node.cost}\", end ='| ')\n",
    "print(f\"# of nodes Expanded: {nodes}\", end ='| ')\n",
    "print(f\"max tree depth: {len(node.get_path_from_root())}\")\n",
    "print(f\"max # of nodes in memory: {memory}\", end ='| ')\n",
    "print(f\"max frontier size: {size}\" )\n",
    "\n",
    "node, nodes, size, memory = Depth_Limited_Search(maze, 75) \n",
    "print(\"Depth_Limited_Search\")\n",
    "print(f\"Path cost: {node.cost}\", end ='| ')\n",
    "print(f\"# of nodes Expanded: {nodes}\", end ='| ')\n",
    "print(f\"max tree depth: {len(node.get_path_from_root())}\")\n",
    "print(f\"max # of nodes in memory: {memory}\", end ='| ')\n",
    "print(f\"max frontier size: {size}\" )\n",
    "\n",
    "with open(\"large_maze.txt\", \"r\") as f:\n",
    "    maze_str = f.read()\n",
    "maze = mh.parse_maze(maze_str)\n",
    "\n",
    "print('\\033[1m' + 'Large Maze' + '\\033[0m')\n",
    "\n",
    "node, nodes, size, memory = Breadth_First_Search(maze)\n",
    "print(\"Breadth_First_Search\")\n",
    "print(f\"Path cost: {node.cost}\", end ='| ')\n",
    "print(f\"# of nodes Expanded: {nodes}\", end ='| ')\n",
    "print(f\"max tree depth: {len(node.get_path_from_root())}\")\n",
    "print(f\"max # of nodes in memory: {memory}\", end ='| ')\n",
    "print(f\"max frontier size: {size}\" )\n",
    "\n",
    "node, nodes, size, memory = Depth_Limited_Search(maze, 75) \n",
    "print(\"Depth_Limited_Search\")\n",
    "print(f\"Path cost: {node.cost}\", end ='| ')\n",
    "print(f\"# of nodes Expanded: {nodes}\", end ='| ')\n",
    "print(f\"max tree depth: {len(node.get_path_from_root())}\")\n",
    "print(f\"max # of nodes in memory: {memory}\", end ='| ')\n",
    "print(f\"max frontier size: {size}\" )\n",
    "\n",
    "with open(\"loops_maze.txt\", \"r\") as f:\n",
    "    maze_str = f.read()\n",
    "maze = mh.parse_maze(maze_str)\n",
    "\n",
    "print('\\033[1m' + 'Loops Maze' + '\\033[0m')\n",
    "\n",
    "node, nodes, size, memory = Breadth_First_Search(maze)\n",
    "print(\"Breadth_First_Search\")\n",
    "print(f\"Path cost: {node.cost}\", end ='| ')\n",
    "print(f\"# of nodes Expanded: {nodes}\", end ='| ')\n",
    "print(f\"max tree depth: {len(node.get_path_from_root())}\")\n",
    "print(f\"max # of nodes in memory: {memory}\", end ='| ')\n",
    "print(f\"max frontier size: {size}\" )\n",
    "\n",
    "node, nodes, size, memory = Depth_Limited_Search(maze, 75) \n",
    "print(\"Depth_Limited_Search\")\n",
    "print(f\"Path cost: {node.cost}\", end ='| ')\n",
    "print(f\"# of nodes Expanded: {nodes}\", end ='| ')\n",
    "print(f\"max tree depth: {len(node.get_path_from_root())}\")\n",
    "print(f\"max # of nodes in memory: {memory}\", end ='| ')\n",
    "print(f\"max frontier size: {size}\" )\n",
    "\n",
    "with open(\"medium_maze.txt\", \"r\") as f:\n",
    "    maze_str = f.read()\n",
    "maze = mh.parse_maze(maze_str)\n",
    "\n",
    "print('\\033[1m' + 'Medium Maze' + '\\033[0m')\n",
    "\n",
    "node, nodes, size, memory = Breadth_First_Search(maze)\n",
    "print(\"Breadth_First_Search\")\n",
    "print(f\"Path cost: {node.cost}\", end ='| ')\n",
    "print(f\"# of nodes Expanded: {nodes}\", end ='| ')\n",
    "print(f\"max tree depth: {len(node.get_path_from_root())}\")\n",
    "print(f\"max # of nodes in memory: {memory}\", end ='| ')\n",
    "print(f\"max frontier size: {size}\" )\n",
    "\n",
    "node, nodes, size, memory = Depth_Limited_Search(maze, 75) \n",
    "print(\"Depth_Limited_Search\")\n",
    "print(f\"Path cost: {node.cost}\", end ='| ')\n",
    "print(f\"# of nodes Expanded: {nodes}\", end ='| ')\n",
    "print(f\"max tree depth: {len(node.get_path_from_root())}\")\n",
    "print(f\"max # of nodes in memory: {memory}\", end ='| ')\n",
    "print(f\"max frontier size: {size}\" )\n",
    "\n",
    "with open(\"open_maze.txt\", \"r\") as f:\n",
    "    maze_str = f.read()\n",
    "maze = mh.parse_maze(maze_str)\n",
    "\n",
    "print('\\033[1m' + 'Open Maze' + '\\033[0m')\n",
    "\n",
    "node, nodes, size, memory = Breadth_First_Search(maze)\n",
    "print(\"Breadth_First_Search\")\n",
    "print(f\"Path cost: {node.cost}\", end ='| ')\n",
    "print(f\"# of nodes Expanded: {nodes}\", end ='| ')\n",
    "print(f\"max tree depth: {len(node.get_path_from_root())}\")\n",
    "print(f\"max # of nodes in memory: {memory}\", end ='| ')\n",
    "print(f\"max frontier size: {size}\" )\n",
    "\n",
    "node, nodes, size, memory = Depth_Limited_Search(maze, 75) \n",
    "print(\"Depth_Limited_Search\")\n",
    "print(f\"Path cost: {node.cost}\", end ='| ')\n",
    "print(f\"# of nodes Expanded: {nodes}\", end ='| ')\n",
    "print(f\"max tree depth: {len(node.get_path_from_root())}\")\n",
    "print(f\"max # of nodes in memory: {memory}\", end ='| ')\n",
    "print(f\"max frontier size: {size}\" )"
   ]
  },
  {
   "cell_type": "markdown",
   "metadata": {},
   "source": [
    "Complete the following table for each maze.\n",
    "\n",
    "__Small maze__\n",
    "\n",
    "| algorithm | path cost | # of nodes expanded | max tree depth | max # of nodes in memory | max frontier size |\n",
    "|-----------|-----------|----------------|----------------|---------------|-------------------|\n",
    "| BFS       |           |                |                |               |                   |\n",
    "| DFS       |           |                |                |               |                   |\n",
    "| GBS       |           |                |                |               |                   |\n",
    "| A*        |           |                |                |               |                   |\n",
    "\n",
    "__Medium Maze__\n",
    "\n",
    "..."
   ]
  },
  {
   "cell_type": "markdown",
   "metadata": {},
   "source": [
    "Present the results as using charts (see [Python Code Examples/charts and tables](../HOWTOs/charts_and_tables.ipynb)). "
   ]
  },
  {
   "cell_type": "code",
   "execution_count": 53,
   "metadata": {},
   "outputs": [],
   "source": [
    "# Add charts"
   ]
  },
  {
   "cell_type": "markdown",
   "metadata": {},
   "source": [
    "Discuss the most important lessons you have learned from implementing the different search strategies. "
   ]
  },
  {
   "cell_type": "markdown",
   "metadata": {},
   "source": [
    "# Add discussion\n",
    "\n",
    "The Depth first Search required a bit more thought since we are not using the reached list to store all the places the algorithum visisted so this required a bit more time to think how to add nodes into the data structure. Also GFBS and Astar algorithums would get stuck into a cronor and I could not fiqure out how to fix the issue. The standard mazes were not that hard to fiqure out how to get to the goal and the algorithums did not do anyhting too complicated. The open maze is hard for DFS since it is going to be stuck in that top left room. "
   ]
  },
  {
   "cell_type": "markdown",
   "metadata": {},
   "source": [
    "## Graduate student advanced task: IDS and Multiple goals [10 Points]\n",
    "\n",
    "__Undergraduate students:__ This is a bonus task you can attempt if you like [+5 Bonus Points].\n",
    "\n",
    "Create a few mazes with multiple goals by adding one or two more goals to the medium size maze.\n",
    "Solve the maze with your implementations for DFS, BFS, and implement in addition IDS (iterative deepening search using DFS). \n",
    "\n",
    "Run experiments to show which implementations find the optimal solution and which do not. Discuss why that is the case."
   ]
  },
  {
   "cell_type": "code",
   "execution_count": null,
   "metadata": {},
   "outputs": [],
   "source": [
    "# Your code/answer goes here"
   ]
  },
  {
   "cell_type": "markdown",
   "metadata": {},
   "source": [
    "## More advanced tasks to think about\n",
    "\n",
    "Instead of defining each square as a state, use only intersections as states. Now the storage requirement is reduced, but the path length between two intersections can be different. If we use total path length measured as the number of squares as path cost, how can we make sure that BFS and iterative deepening search is optimal? Change the code to do so."
   ]
  },
  {
   "cell_type": "code",
   "execution_count": null,
   "metadata": {},
   "outputs": [],
   "source": [
    "# Your code/answer goes here"
   ]
  },
  {
   "cell_type": "markdown",
   "metadata": {},
   "source": [
    "Modify your A* search to add weights (see text book) and explore how different weights influence the result."
   ]
  },
  {
   "cell_type": "code",
   "execution_count": null,
   "metadata": {},
   "outputs": [],
   "source": [
    "# Your code/answer goes here"
   ]
  },
  {
   "cell_type": "markdown",
   "metadata": {},
   "source": [
    "What happens if the agent does not know the layout of the maze in advance (i.e., faces an unkown, only partially observable environment)? How does the environment look then (PEAS description)? How would you implement a rational agent to solve the maze? What if the agent still has a GPS device to tell the distance to the goal?"
   ]
  },
  {
   "cell_type": "code",
   "execution_count": null,
   "metadata": {},
   "outputs": [],
   "source": [
    "# Your code/answer goes here"
   ]
  }
 ],
 "metadata": {
  "kernelspec": {
   "display_name": "Python 3 (ipykernel)",
   "language": "python",
   "name": "python3"
  },
  "language_info": {
   "codemirror_mode": {
    "name": "ipython",
    "version": 3
   },
   "file_extension": ".py",
   "mimetype": "text/x-python",
   "name": "python",
   "nbconvert_exporter": "python",
   "pygments_lexer": "ipython3",
   "version": "3.9.12"
  }
 },
 "nbformat": 4,
 "nbformat_minor": 4
}
