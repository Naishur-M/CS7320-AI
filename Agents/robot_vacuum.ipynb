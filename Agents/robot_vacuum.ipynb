{
 "cells": [
  {
   "cell_type": "markdown",
   "metadata": {},
   "source": [
    "# Intelligent Agents: Reflex-Based Agents for the Vacuum-cleaner World\n",
    "\n",
    "\n",
    "## Instructions\n",
    "\n",
    "Total Points: Undergrads 100 / Graduate students 110\n",
    "\n",
    "Complete this notebook. Use the provided notebook cells and insert additional code and markdown cells as needed. Submit the completely rendered notebook as a PDF file. \n",
    "\n",
    "## Introduction\n",
    "\n",
    "In this assignment you will implement a simulator environment for an automatic vacuum cleaner robot, a set of different reflex-based agent programs, and perform a comparison study for cleaning a single room. Focus on the __cleaning phase__ which starts when the robot is activated and ends when the last dirty square in the room has been cleaned. Someone else will take care of the agent program needed to navigate back to the charging station after the room is clean.\n",
    "\n",
    "## PEAS description of the cleaning phase\n",
    "\n",
    "__Performance Measure:__ Each action costs 1 energy unit. The performance is measured as the sum of the energy units used to clean the whole room.\n",
    "\n",
    "__Environment:__ A room with $n \\times n$ squares where $n = 5$. Dirt is randomly placed on each square with probability $p = 0.2$. For simplicity, you can assume that the agent knows the size and the layout of the room (i.e., it knows $n$). To start, the agent is placed on a random square.\n",
    "\n",
    "__Actuators:__ The agent can clean the current square (action `suck`) or move to an adjacent square by going `north`, `east`, `south`, or `west`.\n",
    "\n",
    "__Sensors:__ Four bumper sensors, one for north, east, south, and west; a dirt sensor reporting dirt in the current square.  \n",
    "\n",
    "\n",
    "## The agent program for a simple randomized agent\n",
    "\n",
    "The agent program is a function that gets sensor information (the current percepts) as the arguments. The arguments are:\n",
    "\n",
    "* A dictionary with boolean entries for the for bumper sensors `north`, `east`, `west`, `south`. E.g., if the agent is on the north-west corner, `bumpers` will be `{\"north\" : True, \"east\" : False, \"south\" : False, \"west\" : True}`.\n",
    "* The dirt sensor produces a boolean.\n",
    "\n",
    "The agent returns the chosen action as a string.\n",
    "\n",
    "Here is an example implementation for the agent program of a simple randomized agent:  "
   ]
  },
  {
   "cell_type": "code",
   "execution_count": 16,
   "metadata": {},
   "outputs": [],
   "source": [
    "import numpy as np\n",
    "\n",
    "actions = [\"north\", \"east\", \"west\", \"south\", \"suck\"]\n",
    "\n",
    "def simple_randomized_agent(bumpers, dirty):\n",
    "    return np.random.choice(actions)"
   ]
  },
  {
   "cell_type": "code",
   "execution_count": 17,
   "metadata": {},
   "outputs": [
    {
     "data": {
      "text/plain": [
       "'west'"
      ]
     },
     "execution_count": 17,
     "metadata": {},
     "output_type": "execute_result"
    }
   ],
   "source": [
    "# define percepts (current location is NW corner and it is dirty)\n",
    "bumpers = {\"north\" : True, \"east\" : False, \"south\" : False, \"west\" : True}\n",
    "dirty = True\n",
    "\n",
    "# call agent program function with percepts and it returns an action\n",
    "simple_randomized_agent(bumpers, dirty)"
   ]
  },
  {
   "cell_type": "markdown",
   "metadata": {},
   "source": [
    "__Note:__ This is not a rational intelligent agent. It ignores its sensors and may bump into a wall repeatedly or not clean a dirty square. You will be asked to implement rational agents below."
   ]
  },
  {
   "cell_type": "markdown",
   "metadata": {},
   "source": [
    "## Simple environment example\n",
    "\n",
    "We implement a simple simulation environment that supplies the agent with its percepts.\n",
    "The simple environment is infinite in size (bumpers are always `False`) and every square is always dirty, even if the agent cleans it. The environment function returns a performance measure which is here the number of cleaned squares (since the room is infinite and all squares are constantly dirty, the agent can never clean the whole room as required in the PEAS description above). The energy budget of the agent is specified as `max_steps`. "
   ]
  },
  {
   "cell_type": "code",
   "execution_count": 18,
   "metadata": {},
   "outputs": [],
   "source": [
    "def simple_environment(agent, max_steps, verbose = True):\n",
    "    num_cleaned = 0\n",
    "    \n",
    "    for i in range(max_steps):\n",
    "        dirty = True\n",
    "        bumpers = {\"north\" : False, \"south\" : False, \"west\" : False, \"east\" : False}\n",
    "\n",
    "        action = agent(bumpers, dirty)\n",
    "        if (verbose): print(\"step\", i , \"- action:\", action) \n",
    "        \n",
    "        if (action == \"suck\"): \n",
    "            num_cleaned = num_cleaned + 1\n",
    "        \n",
    "    return num_cleaned\n",
    "        \n"
   ]
  },
  {
   "cell_type": "markdown",
   "metadata": {},
   "source": [
    "Do one simulation run with a simple randomized agent that has enough energy for 20 steps."
   ]
  },
  {
   "cell_type": "code",
   "execution_count": 19,
   "metadata": {},
   "outputs": [
    {
     "name": "stdout",
     "output_type": "stream",
     "text": [
      "step 0 - action: north\n",
      "step 1 - action: west\n",
      "step 2 - action: north\n",
      "step 3 - action: suck\n",
      "step 4 - action: east\n",
      "step 5 - action: east\n",
      "step 6 - action: west\n",
      "step 7 - action: suck\n",
      "step 8 - action: east\n",
      "step 9 - action: south\n",
      "step 10 - action: south\n",
      "step 11 - action: north\n",
      "step 12 - action: east\n",
      "step 13 - action: east\n",
      "step 14 - action: suck\n",
      "step 15 - action: west\n",
      "step 16 - action: east\n",
      "step 17 - action: east\n",
      "step 18 - action: north\n",
      "step 19 - action: west\n"
     ]
    },
    {
     "data": {
      "text/plain": [
       "3"
      ]
     },
     "execution_count": 19,
     "metadata": {},
     "output_type": "execute_result"
    }
   ],
   "source": [
    "simple_environment(simple_randomized_agent, max_steps = 20)"
   ]
  },
  {
   "cell_type": "markdown",
   "metadata": {},
   "source": [
    "# Tasks\n",
    "\n",
    "## General [10 Points]\n",
    "\n",
    "1. Make sure that you use the latest version of this notebook. Sync your forked repository and pull the latest revision. \n",
    "2. Your implementation can use libraries like math, numpy, scipy, but not libraries that implement inteligent agents or complete search algorithms. Try to keep the code simple! In this course, we want to learn about the algorithms and we often do not need to use object-oriented design.\n",
    "3. You notebook needs to be formated professionally. \n",
    "    - Add additional markdown blocks for your description, comments in the code, add tables and use mathplotlib to produce charts where appropriate\n",
    "    - Do not show debugging output or include an excessive amount of output.\n",
    "    - Check that your PDF file is readable. For example, long lines are cut off in the PDF file. You don't have control over page breaks, so do not worry about these.\n",
    "4. Document your code. Add a short discussion of how your implementation works and your design choices.\n",
    "\n",
    "\n",
    "## Task 1: Implement a simulation environment [20 Points]\n",
    "\n",
    "The simple environment above is not very realistic. Your environment simulator needs to follow the PEAS description from above. It needs to:\n",
    "\n",
    "* Initialize the environment by storing the state of each square (clean/dirty) and making some dirty. ([Help with random numbers and arrays in Python](https://github.com/mhahsler/CS7320-AI/blob/master/Python_Code_Examples/random_numbers_and_arrays.ipynb))\n",
    "* Keep track of the agent's position.\n",
    "* Call the agent function repeatedly and provide the agent function with the sensor inputs.  \n",
    "* React to the agent's actions. E.g, by removing dirt from a square or moving the agent around unless there is a wall in the way.\n",
    "* Keep track of the performance measure. That is, track the agent's actions until all dirty squares are clean and count the number of actions it takes the agent to complete the task.\n",
    "\n",
    "The easiest implementation for the environment is to hold an 2-dimensional array to represent if squares are clean or dirty and to call the agent function in a loop until all squares are clean or a predefined number of steps have been reached (i.e., the robot runs out of energy).\n",
    "\n",
    "The simulation environment should be a function like the `simple_environment()` and needs to work with the simple randomized agent program from above. **Use the same environmnt for all your agent implementations in the tasks below.**\n",
    "\n",
    "*Note on debugging:* Debugging is difficult. Make sure your environment prints enough information when you use `verbose = True`. Also, implementing a function that the environment can use to displays the room with dirt and the current position of the robot at every step is very useful.  "
   ]
  },
  {
   "cell_type": "code",
   "execution_count": 24,
   "metadata": {
    "scrolled": true
   },
   "outputs": [
    {
     "name": "stdout",
     "output_type": "stream",
     "text": [
      "[0, 0, 1, 0, 1]\n",
      "[0, 0, 0, 0, 0]\n",
      "[0, 0, 0, 1, 0]\n",
      "[0, 0, 0, 0, 0]\n",
      "[0, 0, 0, 0, 1]\n",
      "locx:3, locy:0\n",
      "loc is dirty:0\n",
      "step 0 - action: north\n",
      "locx:2, locy:0\n",
      "loc is dirty:0\n",
      "step 1 - action: north\n",
      "locx:1, locy:0\n",
      "loc is dirty:0\n",
      "step 2 - action: north\n",
      "locx:0, locy:0\n",
      "loc is dirty:0\n",
      "step 3 - action: None\n",
      "locx:0, locy:0\n",
      "loc is dirty:0\n",
      "step 4 - action: east\n",
      "locx:0, locy:1\n",
      "loc is dirty:0\n",
      "step 5 - action: east\n",
      "locx:0, locy:2\n",
      "loc is dirty:1\n",
      "[0, 0, 0, 0, 1]\n",
      "[0, 0, 0, 0, 0]\n",
      "[0, 0, 0, 1, 0]\n",
      "[0, 0, 0, 0, 0]\n",
      "[0, 0, 0, 0, 1]\n",
      "step 4 - action: suck\n",
      "locx:0, locy:2\n",
      "loc is dirty:0\n",
      "step 7 - action: east\n",
      "locx:0, locy:3\n",
      "loc is dirty:0\n",
      "step 8 - action: east\n",
      "locx:0, locy:4\n",
      "loc is dirty:1\n",
      "[0, 0, 0, 0, 0]\n",
      "[0, 0, 0, 0, 0]\n",
      "[0, 0, 0, 1, 0]\n",
      "[0, 0, 0, 0, 0]\n",
      "[0, 0, 0, 0, 1]\n",
      "step 4 - action: suck\n",
      "locx:0, locy:4\n",
      "loc is dirty:0\n",
      "step 10 - action: south\n",
      "locx:1, locy:4\n",
      "loc is dirty:0\n",
      "step 11 - action: west\n",
      "locx:1, locy:3\n",
      "loc is dirty:0\n",
      "step 12 - action: west\n",
      "locx:1, locy:2\n",
      "loc is dirty:0\n",
      "step 13 - action: west\n",
      "locx:1, locy:1\n",
      "loc is dirty:0\n",
      "step 14 - action: west\n",
      "locx:1, locy:0\n",
      "loc is dirty:0\n",
      "step 15 - action: south\n",
      "locx:2, locy:0\n",
      "loc is dirty:0\n",
      "step 16 - action: east\n",
      "locx:2, locy:1\n",
      "loc is dirty:0\n",
      "step 17 - action: east\n",
      "locx:2, locy:2\n",
      "loc is dirty:0\n",
      "step 18 - action: east\n",
      "locx:2, locy:3\n",
      "loc is dirty:1\n",
      "[0, 0, 0, 0, 0]\n",
      "[0, 0, 0, 0, 0]\n",
      "[0, 0, 0, 0, 0]\n",
      "[0, 0, 0, 0, 0]\n",
      "[0, 0, 0, 0, 1]\n",
      "step 4 - action: suck\n",
      "locx:2, locy:3\n",
      "loc is dirty:0\n",
      "step 20 - action: east\n",
      "locx:2, locy:4\n",
      "loc is dirty:0\n",
      "step 21 - action: south\n",
      "locx:3, locy:4\n",
      "loc is dirty:0\n",
      "step 22 - action: west\n",
      "locx:3, locy:3\n",
      "loc is dirty:0\n",
      "step 23 - action: west\n",
      "locx:3, locy:2\n",
      "loc is dirty:0\n",
      "step 24 - action: west\n",
      "locx:3, locy:1\n",
      "loc is dirty:0\n",
      "step 25 - action: west\n",
      "locx:3, locy:0\n",
      "loc is dirty:0\n",
      "step 26 - action: south\n",
      "locx:4, locy:0\n",
      "loc is dirty:0\n",
      "step 27 - action: east\n",
      "locx:4, locy:1\n",
      "loc is dirty:0\n",
      "step 28 - action: east\n",
      "locx:4, locy:2\n",
      "loc is dirty:0\n",
      "step 29 - action: east\n",
      "locx:4, locy:3\n",
      "loc is dirty:0\n",
      "step 30 - action: east\n",
      "locx:4, locy:4\n",
      "loc is dirty:1\n",
      "[0, 0, 0, 0, 0]\n",
      "[0, 0, 0, 0, 0]\n",
      "[0, 0, 0, 0, 0]\n",
      "[0, 0, 0, 0, 0]\n",
      "[0, 0, 0, 0, 0]\n",
      "step 4 - action: suck\n",
      "locx:4, locy:4\n",
      "loc is dirty:0\n"
     ]
    },
    {
     "data": {
      "text/plain": [
       "4"
      ]
     },
     "execution_count": 24,
     "metadata": {},
     "output_type": "execute_result"
    }
   ],
   "source": [
    "# Your code and description goes here\n",
    "'''\n",
    "    My code created a 2d array of squres with a percent chance that the square might be dirty \n",
    "    from there I run the enviroment on a pre-define counter for steps taken or until the\n",
    "    enviroment is cleaned\n",
    "'''\n",
    "def mysimple_enviroment(agent, verbose, xsize, ysize):\n",
    "    #define max steps that robot can take\n",
    "    max_steps = int((xsize * ysize) * 1.2 * 1.5)\n",
    "    \n",
    "    #random generaator\n",
    "    import numpy as np\n",
    "    rng = np.random.default_rng()\n",
    "    p = .2\n",
    "\n",
    "    #how big the enviroment is\n",
    "    rows, cols = (xsize, ysize)\n",
    "    \n",
    "    #randomize the location\n",
    "    locx = np.random.randint(4)\n",
    "    locy = np.random.randint(4)\n",
    "    \n",
    "    #number of dirty squres\n",
    "    num_dirty = 0\n",
    "    \n",
    "    #create enviroment\n",
    "    #if squre is clean it's a zero if it is dirty it is a 1\n",
    "    arr=[]\n",
    "    for i in range(cols):\n",
    "        col = []\n",
    "        for j in range(rows):\n",
    "            if rng.random() > p:\n",
    "                #clean\n",
    "                col.append(0)\n",
    "            else:\n",
    "                #dirty\n",
    "                col.append(1)\n",
    "                num_dirty = num_dirty + 1 \n",
    "        arr.append(col)\n",
    "    \n",
    "    #print enviroment before any actions have been taken\n",
    "    if (verbose):\n",
    "        for i in range(rows):\n",
    "            print(arr[i])\n",
    "    \n",
    "   \n",
    "    num_cleaned =0;\n",
    "    for i in range(max_steps):\n",
    "        #print current location and if the current squre is dirty\n",
    "        if (verbose):\n",
    "            print(f\"locx:{locx}, locy:{locy}\")\n",
    "            print(f\"loc is dirty:{arr[locx][locy]}\")\n",
    "        #store the current square\n",
    "        dirty = arr[locx][locy]\n",
    "        #define the sensors\n",
    "        bumpers = {\"north\" : False, \"south\" : False, \"west\" : False, \"east\" : False}\n",
    "        #if the location of the robot is next to a wall then the sensor is true\n",
    "        if locx == 0:\n",
    "            bumpers[\"north\"] = True\n",
    "        if locy == 0:\n",
    "            bumpers[\"west\"] = True\n",
    "        if locx == cols-1:\n",
    "            bumpers[\"south\"] = True\n",
    "        if locy == rows-1:\n",
    "            bumpers[\"east\"] = True\n",
    "            \n",
    "        #call the model based reflex agent and pass in if is the square is dirty \n",
    "        #and the bumpers\n",
    "        #action = model_based_reflex_agent(bumpers, dirty)\n",
    "        action = agent(bumpers, dirty)\n",
    "        #if the action is suck clean the aqure\n",
    "        if action == \"suck\":\n",
    "            arr[locx][locy] = 0\n",
    "            num_dirty = num_dirty - 1 \n",
    "            #print the new enviorment\n",
    "            if (verbose):\n",
    "                for i in range(rows):\n",
    "                    print(arr[i])\n",
    "        #if the action is north move up\n",
    "        elif action == \"north\":\n",
    "            locx = locx - 1\n",
    "        #if action is south move down\n",
    "        elif action == \"south\":\n",
    "            locx = locx + 1\n",
    "        #if action is east move right\n",
    "        elif action == \"east\":\n",
    "            locy = locy + 1\n",
    "        #if action is west move left\n",
    "        elif action == \"west\":\n",
    "            locy = locy - 1\n",
    "        ##if action is end the room is cleaned \n",
    "        elif action == \"end\":\n",
    "            return num_cleaned\n",
    "        if (verbose): print(\"step\", i , \"- action:\", action) \n",
    "        \n",
    "        if (action == \"suck\"): \n",
    "            num_cleaned = num_cleaned + 1\n",
    "        \n",
    "    return num_cleaned\n",
    "\"\"\"\n",
    "is_leftcor = False\n",
    "is_leftwall = False\n",
    "direction = \"east\"\n",
    "global is_leftcor\n",
    "global is_leftwall\n",
    "global direction\n",
    "mysimple_enviroment(model_based_reflex_agent, verbose = True, xsize = 5, ysize = 5)\n",
    "\"\"\""
   ]
  },
  {
   "cell_type": "markdown",
   "metadata": {},
   "source": [
    "## Task 2:  Implement a simple reflex agent [10 Points] \n",
    "\n",
    "The simple reflex agent randomly walks around but reacts to the bumper sensor by not bumping into the wall and to dirt with sucking. Implement the agent program as a function.\n",
    "\n",
    "_Note:_ Agents cannot directly use variable in the environment. They only gets the percepts as the arguments to the agent function."
   ]
  },
  {
   "cell_type": "code",
   "execution_count": 21,
   "metadata": {},
   "outputs": [],
   "source": [
    "# Your code and description goes here\n",
    "import numpy as np\n",
    "\n",
    "#actions = [\"north\", \"east\", \"west\", \"south\", \"suck\"]\n",
    "\n",
    "#this agent reacts to the enviroment\n",
    "def simple_reflex_agent(bumpers, dirty):\n",
    "    # if the squre is dirty return suck which cleans the squre\n",
    "    if dirty == 1:\n",
    "        return \"suck\"\n",
    "    #if the north bumper is true and the west bumper is true \n",
    "    elif(bumpers[\"north\"]== True and bumpers[\"west\"] == True):\n",
    "        #then the only place it can go is east and south randomly pick one\n",
    "        actions=[\"east\",\"south\"]\n",
    "        return np.random.choice(actions)\n",
    "    #if the north bumper is true and the east bumper is true \n",
    "    elif(bumpers[\"north\"]== True and bumpers[\"east\"] == True):\n",
    "        #then the only place it can go is west and south randomly pick one\n",
    "        actions=[\"west\",\"south\"]\n",
    "        return np.random.choice(actions)\n",
    "    #if the south bumper is true and the east bumper is true \n",
    "    elif(bumpers[\"south\"]== True and bumpers[\"east\"] == True):\n",
    "        #then the only place it can go is west and north randomly pick one\n",
    "        actions=[\"west\",\"north\"]\n",
    "        return np.random.choice(actions)\n",
    "    #if the south bumper is true and the west bumper is true \n",
    "    elif(bumpers[\"south\"]== True and bumpers[\"west\"] == True):\n",
    "        #then the only place it can go is east and north randomly pick one\n",
    "        actions=[\"east\",\"north\"]\n",
    "        return np.random.choice(actions)\n",
    "    #if the north bumper is true  \n",
    "    elif(bumpers[\"north\"] == True):\n",
    "        #then the only place it can go is east, south and west randomly pick one\n",
    "        actions=[\"east\",\"south\", \"west\"]\n",
    "        return np.random.choice(actions)\n",
    "    #if the south bumper is true  \n",
    "    elif(bumpers[\"south\"] == True):\n",
    "        #then the only place it can go is east, north and west randomly pick one\n",
    "        actions=[\"east\",\"north\", \"west\"]\n",
    "        return np.random.choice(actions)\n",
    "    #if the east bumper is true  \n",
    "    elif(bumpers[\"east\"] == True):\n",
    "        #then the only place it can go is south, north and west randomly pick one\n",
    "        actions=[\"south\",\"north\", \"west\"]\n",
    "        return np.random.choice(actions)\n",
    "    #if the west bumper is true  \n",
    "    elif(bumpers[\"west\"] == True):\n",
    "        #then the only place it can go is south, north and east randomly pick one\n",
    "        actions=[\"south\",\"north\", \"east\"]\n",
    "        return np.random.choice(actions)\n",
    "    #if none of the bumpers are ture randomly pick a direction\n",
    "    else:\n",
    "        actions = [\"north\", \"east\", \"west\", \"south\"]\n",
    "        return np.random.choice(actions)"
   ]
  },
  {
   "cell_type": "markdown",
   "metadata": {},
   "source": [
    "## Task 3: Implement a model-based reflex agent [20 Points]\n",
    "\n",
    "Model-based agents use a state to keep track of what they have done and perceived so far. Your agent needs to find out where it is located and then keep track of its current location. You also need a set of rules based on the state and the percepts to make sure that the agent will clean the whole room. For example, the agent can move to a corner to determine its location and then it can navigate through the whole room and clean dirty squares.\n",
    "\n",
    "Describe how you define the __agent state__ and how your agent works before implementing it. ([Help with implementing state information on Python](https://github.com/mhahsler/CS7320-AI/blob/master/Python_Code_Examples/store_agent_state_information.ipynb))"
   ]
  },
  {
   "cell_type": "code",
   "execution_count": 22,
   "metadata": {},
   "outputs": [
    {
     "data": {
      "text/plain": [
       "' My code moves the robot to the left wall first then moves the robot all the way north which is the top \\nleft cornor of the room. Once my robot reaches the left cornor it was jjust cleaning the room by going \\nall the way east then going the the way down one and then all the west until it reaches the end.\\n'"
      ]
     },
     "execution_count": 22,
     "metadata": {},
     "output_type": "execute_result"
    }
   ],
   "source": [
    "# Your short description of the state and your implementation goes here\n",
    "\"\"\" My code moves the robot to the left wall first then moves the robot all the way north which is the top \n",
    "left cornor of the room. Once my robot reaches the left cornor it was jjust cleaning the room by going \n",
    "all the way east then going the the way down one and then all the west until it reaches the end.\n",
    "\"\"\""
   ]
  },
  {
   "cell_type": "code",
   "execution_count": 14,
   "metadata": {},
   "outputs": [],
   "source": [
    "# Your code goes here\n",
    "#defined variable states\n",
    "is_leftcor = False\n",
    "is_leftwall = False\n",
    "direction = \"east\"\n",
    "def model_based_reflex_agent(bumpers, dirty):\n",
    "    #defined global variables\n",
    "    global is_leftcor\n",
    "    global is_leftwall\n",
    "    global direction\n",
    "    #if the robot hasn't reached the left cornor yet\n",
    "    if is_leftcor == False:\n",
    "        #if the robot has reached the left wall\n",
    "        if bumpers[\"west\"] == True:\n",
    "            #set left wall to true\n",
    "            is_leftwall = True \n",
    "        #check bumpers to see if the robot has reached the left cornor\n",
    "        if bumpers[\"west\"] == True and bumpers[\"north\"] == True:\n",
    "            #set left cornor to true\n",
    "            is_leftcor = True\n",
    "        #if the left cornor is false\n",
    "        if is_leftcor == False:\n",
    "            #if the left wall is false\n",
    "            if is_leftwall == False:\n",
    "                #move west until the robot finds left wall\n",
    "                return \"west\"\n",
    "            else:\n",
    "                #then move north\n",
    "                return \"north\"\n",
    "    #once the robot has found the left cornor\n",
    "    else:\n",
    "        #check to see if the square is dirty if it is clean it\n",
    "        if dirty == 1:\n",
    "            return \"suck\"\n",
    "        #if the direction is heading has the bumper set to true\n",
    "        elif bumpers[direction] == True:\n",
    "            #check to see if it can move down\n",
    "            if bumpers[\"south\"] == True:\n",
    "                #if it can't then the robot has cleaned the room\n",
    "                return \"end\"\n",
    "            #if it can move down check the direction it was heading if it was east chnage direction to west\n",
    "            if direction == \"east\":\n",
    "                direction = \"west\"\n",
    "            else:\n",
    "                #else go east\n",
    "                direction = \"east\"\n",
    "            #it will always move south\n",
    "            return \"south\"\n",
    "        #else go in the direction it was heading\n",
    "        else:\n",
    "            return direction\n",
    "           "
   ]
  },
  {
   "cell_type": "markdown",
   "metadata": {},
   "source": [
    "## Task 4: Simulation study [30 Points]\n",
    "\n",
    "Compare the performance (the performance measure is defined in the PEAS description above) of the agents using  environments of different size. E.g., $5 \\times 5$, $10 \\times 10$ and\n",
    "$100 \\times 100$. Use 100 random runs for each. Present the results using tables and graphs. Discuss the differences between the agents. \n",
    "([Help with charts and tables in Python](https://github.com/mhahsler/CS7320-AI/blob/master/Python_Code_Examples/charts_and_tables.ipynb))"
   ]
  },
  {
   "cell_type": "code",
   "execution_count": 26,
   "metadata": {},
   "outputs": [
    {
     "ename": "SyntaxError",
     "evalue": "invalid syntax (3752734981.py, line 14)",
     "output_type": "error",
     "traceback": [
      "\u001b[1;36m  Input \u001b[1;32mIn [26]\u001b[1;36m\u001b[0m\n\u001b[1;33m    global is_leftcor,\u001b[0m\n\u001b[1;37m    ^\u001b[0m\n\u001b[1;31mSyntaxError\u001b[0m\u001b[1;31m:\u001b[0m invalid syntax\n"
     ]
    }
   ],
   "source": [
    "# Your code goes here\n",
    "import numpy as np  \n",
    "import pandas as pd\n",
    "\n",
    "# create data for n = 10 and N = 100 replications, so we can compare distributions.\n",
    "N = 100\n",
    "performance = {\n",
    "    \"agent 1\" : np.add(mysimple_enviroment(simple_reflex_agent, verbose, xsize, ysize)),\n",
    "    \"agent 2\" : np.add(mysimple_enviroment(simple_randomized_agent, verbose, xsize, ysize)),\n",
    "    \"agent 3\" : np.add(\n",
    "        is_leftcor = False,\n",
    "        is_leftwall = False,\n",
    "        direction = \"east\",\n",
    "        global is_leftcor,\n",
    "        global is_leftwall,\n",
    "        global direction,\n",
    "        mysimple_enviroment(model_based_reflex_agent, verbose, xsize, ysize))\n",
    "}\n",
    "\n",
    "# show data as a data frame using pandas\n",
    "df = pd.DataFrame(performance)\n",
    "df\n"
   ]
  },
  {
   "cell_type": "markdown",
   "metadata": {},
   "source": [
    "Fill out the following table with the average performance measure for 100 random runs (you may also create this table with code):\n",
    "\n",
    "| Size     | Randomized Agent | Simple Reflex Agent | Model-based Reflex Agent |\n",
    "|----------|------------------|---------------------|--------------------------|\n",
    "| 5x5     | | | |\n",
    "| 10x10   | | | |\n",
    "| 100x100 | | | |\n",
    "\n",
    "Add charts to compare the performance of the different agents."
   ]
  },
  {
   "cell_type": "code",
   "execution_count": 10,
   "metadata": {},
   "outputs": [],
   "source": [
    "# Your graphs and discussion of the results goes here"
   ]
  },
  {
   "cell_type": "markdown",
   "metadata": {},
   "source": [
    "## Task 5: Robustness of the agent implementations [10 Points] \n",
    "\n",
    "Describe how **your agent implementations** will perform \n",
    "\n",
    "* if it is put into a rectangular room with unknown size, \n",
    "* if the cleaning area can have an iregular shape (e.g., a hallway connecting two rooms), or \n",
    "* if the room contains obstacles (i.e., squares that it cannot pass through and trigger the bumper sensors)."
   ]
  },
  {
   "cell_type": "code",
   "execution_count": 11,
   "metadata": {},
   "outputs": [],
   "source": [
    "# Answer goes here"
   ]
  },
  {
   "cell_type": "markdown",
   "metadata": {},
   "source": [
    "## Graduate student advanced task: Obstacles [10 Points]\n",
    "\n",
    "__Undergraduate students:__ This is a bonus task you can attempt if you like [+5 Bonus Points].\n",
    "\n",
    "1. Change your simulation environment tor run experiments for the following problem: Add random obstacle squares that also trigger the bumper sensor. The agent does not know where the obstacles are. Observe how this changes the performance of the three implementations.\n",
    "\n",
    "2. Describe what would need to be done to perform better with obstacles. Add code if you can. "
   ]
  },
  {
   "cell_type": "code",
   "execution_count": 12,
   "metadata": {},
   "outputs": [],
   "source": [
    "# Your code and discussion goes here"
   ]
  },
  {
   "cell_type": "markdown",
   "metadata": {},
   "source": [
    "## More advanced implementation tasks\n",
    "\n",
    "* __Agent for and environment with obstacles:__ Implement an agent for an environment where the agent does not know how large the environment is (we assume it is rectangular), where it starts or where the obstacles are. An option would be to always move to the closest unchecked/uncleaned square (note that this is actualy depth-first search).\n",
    "\n",
    "* __Utility-based agent:__ Change the environment for a $5 \\times 5$ room, so each square has a fixed probability of getting dirty again. For the implementation, we give the environment a 2-dimensional array of probabilities. The utility of a state is defined as the number of currebntly clean squares in the room. Implement a utility-based agent that maximizes the expected utility over one full charge which lasts for 100000 time steps. To do this, the agent needs to learn the probabilities with which different squares get dirty again. This is very tricky!"
   ]
  },
  {
   "cell_type": "code",
   "execution_count": 13,
   "metadata": {},
   "outputs": [],
   "source": [
    "# Your ideas/code"
   ]
  }
 ],
 "metadata": {
  "kernelspec": {
   "display_name": "Python 3 (ipykernel)",
   "language": "python",
   "name": "python3"
  },
  "language_info": {
   "codemirror_mode": {
    "name": "ipython",
    "version": 3
   },
   "file_extension": ".py",
   "mimetype": "text/x-python",
   "name": "python",
   "nbconvert_exporter": "python",
   "pygments_lexer": "ipython3",
   "version": "3.9.12"
  },
  "toc-autonumbering": false
 },
 "nbformat": 4,
 "nbformat_minor": 4
}
