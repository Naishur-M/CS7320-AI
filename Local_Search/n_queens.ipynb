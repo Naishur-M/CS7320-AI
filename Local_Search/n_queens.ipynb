{
 "cells": [
  {
   "cell_type": "markdown",
   "metadata": {},
   "source": [
    "# Solving the n-Queens Problem using Local Search\n",
    "\n",
    "## Instructions\n",
    "\n",
    "Total Points: Undergrads 100 / Graduate students 110\n",
    "\n",
    "Complete this notebook. Use the provided notebook cells and insert additional code and markdown cells as needed. Submit the completely rendered notebook as a PDF file. \n"
   ]
  },
  {
   "cell_type": "markdown",
   "metadata": {},
   "source": [
    "## The n-Queens Problem\n",
    "\n",
    "* __Goal:__ Find an arrangement of $n$ queens on a $n \\times n$ chess board so that no queen is on the same row, column or diagonal as any other queen.\n",
    "\n",
    "* __State space:__ An arrangement of the queens on the board. We restrict the state space to arrangements where there is only a single queen per column. We represent a state as an integer vector $\\mathbf{q} = \\{q_1, q_2, \\dots, q_n\\}$, each number representing the row positions of the queens from left to right. We will call a state a \"board.\"\n",
    "\n",
    "* __Objective function:__ The number of pairwise conflicts (i.e., two queens in the same row/column/diagonal).\n",
    "The optimization problem is to find the optimal arrangement $\\mathbf{q}^*$ of $n$ queens on the board can be written as:\n",
    "\n",
    "  > minimize: $\\mathrm{conflicts}(\\mathbf{q})$\n",
    "  >\n",
    "  > subject to: $\\mathbf{q} \\ \\text{contains only one queen per column}$\n",
    "\n",
    "  Note: the constraint (subject to) is enforced by the definition of the state space.\n",
    "\n",
    "* __Local improvement move:__ Move one queen to a different row in its column.\n",
    "\n",
    "* __Termination:__ For this problem there is always an arrangement $\\mathbf{q}^*$ with $\\mathrm{conflicts}(\\mathbf{q}^*) = 0$, however, the local improvement moves might end up in a local minimum. "
   ]
  },
  {
   "cell_type": "markdown",
   "metadata": {},
   "source": [
    "## Helper functions"
   ]
  },
  {
   "cell_type": "code",
   "execution_count": 5,
   "metadata": {},
   "outputs": [],
   "source": [
    "import numpy as np\n",
    "import matplotlib.pyplot as plt\n",
    "from matplotlib import colors\n",
    "\n",
    "import warnings\n",
    "warnings.filterwarnings(\"ignore\")\n",
    "\n",
    "np.random.seed(1234)\n",
    "\n",
    "def random_board(n):\n",
    "    \"\"\"Creates a random board of size n x n. Note that only a single queen is placed in each column!\"\"\"\n",
    "    \n",
    "    return(np.random.randint(0,n, size = n))\n",
    "\n",
    "def comb2(n): return n*(n-1)//2 # this is n choose 2 equivalent to math.comb(n, 2); // is int division\n",
    "\n",
    "def conflicts(board):\n",
    "    \"\"\"Caclulate the number of conflicts, i.e., the objective function.\"\"\"\n",
    "\n",
    "    n = len(board)\n",
    "    \n",
    "    horizontal_cnt = [0] * n\n",
    "    diagonal1_cnt = [0] * 2 * n\n",
    "    diagonal2_cnt = [0] * 2 * n\n",
    "    \n",
    "    for i in range(n):\n",
    "        horizontal_cnt[board[i]] += 1\n",
    "        diagonal1_cnt[i + board[i]] += 1\n",
    "        diagonal2_cnt[i - board[i] + n] += 1\n",
    "    \n",
    "    return sum(map(comb2, horizontal_cnt + diagonal1_cnt + diagonal2_cnt))\n",
    "\n",
    "\n",
    "def show_board(board, cols = ['white', 'gray'], fontsize = 48):  \n",
    "    \"\"\"display the board\"\"\"\n",
    "    \n",
    "    n = len(board)\n",
    "    \n",
    "    # create chess board display\n",
    "    display = np.zeros([n,n])\n",
    "    for i in range(n):\n",
    "        for j in range(n):\n",
    "            if (((i+j) % 2) != 0): \n",
    "                display[i,j] = 1\n",
    "    \n",
    "    cmap = colors.ListedColormap(cols)\n",
    "    fig, ax = plt.subplots()\n",
    "    ax.imshow(display, cmap = cmap, \n",
    "              norm = colors.BoundaryNorm(range(len(cols)+1), cmap.N))\n",
    "    ax.set_xticks([])\n",
    "    ax.set_yticks([])\n",
    "    \n",
    "    # place queens. Note: Unicode u265B is a black queen\n",
    "    for j in range(n):\n",
    "        plt.text(j, board[j], u\"\\u265B\", fontsize = fontsize, \n",
    "                 horizontalalignment = 'center',\n",
    "                 verticalalignment = 'center')\n",
    "    \n",
    "    print(f\"Board with {conflicts_jit(board)} conflicts.\")\n",
    "    plt.show()"
   ]
  },
  {
   "cell_type": "markdown",
   "metadata": {},
   "source": [
    "## Create a board"
   ]
  },
  {
   "cell_type": "code",
   "execution_count": 6,
   "metadata": {},
   "outputs": [
    {
     "name": "stdout",
     "output_type": "stream",
     "text": [
      "Board with 4 conflicts.\n"
     ]
    },
    {
     "data": {
      "image/png": "[encoded data removed]",
      "text/plain": [
       "<Figure size 432x288 with 1 Axes>"
      ]
     },
     "metadata": {},
     "output_type": "display_data"
    },
    {
     "name": "stdout",
     "output_type": "stream",
     "text": [
      "Queens (left to right) are at rows: [3 3 2 1]\n",
      "Number of conflicts: 4\n"
     ]
    }
   ],
   "source": [
    "board = random_board(4)\n",
    "\n",
    "show_board(board)\n",
    "print(f\"Queens (left to right) are at rows: {board}\")\n",
    "print(f\"Number of conflicts: {conflicts(board)}\")"
   ]
  },
  {
   "cell_type": "markdown",
   "metadata": {},
   "source": [
    "A board $4 \\times 4$ with no conflicts:"
   ]
  },
  {
   "cell_type": "code",
   "execution_count": 7,
   "metadata": {},
   "outputs": [
    {
     "name": "stdout",
     "output_type": "stream",
     "text": [
      "Board with 0 conflicts.\n"
     ]
    },
    {
     "data": {
      "image/png": "[encoded data removed]",
      "text/plain": [
       "<Figure size 432x288 with 1 Axes>"
      ]
     },
     "metadata": {},
     "output_type": "display_data"
    }
   ],
   "source": [
    "board = [1,3,0,2]\n",
    "show_board(board)"
   ]
  },
  {
   "cell_type": "markdown",
   "metadata": {},
   "source": [
    "# Tasks\n",
    "\n",
    "## General [10 Points]\n",
    "\n",
    "1. Make sure that you use the latest version of this notebook. Sync your forked repository and pull the latest revision. \n",
    "2. Your implementation can use libraries like math, numpy, scipy, but not libraries that implement inteligent agents or complete search algorithms. Try to keep the code simple! In this course, we want to learn about the algorithms and we often do not need to use object-oriented design.\n",
    "3. You notebook needs to be formated professionally. \n",
    "    - Add additional markdown blocks for your description, comments in the code, add tables and use mathplotlib to produce charts where appropriate\n",
    "    - Do not show debugging output or include an excessive amount of output.\n",
    "    - Check that your PDF file is readable. For example, long lines are cut off in the PDF file. You don't have control over page breaks, so do not worry about these.\n",
    "4. Document your code. Add a short discussion of how your implementation works and your design choices."
   ]
  },
  {
   "cell_type": "markdown",
   "metadata": {},
   "source": [
    "## Task 1: Steepest-ascend Hill Climbing Search [30 Points]\n",
    "\n",
    "Calculate the objective function for all local moves (see definition of local moves above) and always choose the best among all local moves. If there are no local moves that improve the objective, then you have reached a local optimum. "
   ]
  },
  {
   "cell_type": "code",
   "execution_count": 8,
   "metadata": {},
   "outputs": [],
   "source": [
    "from numba import njit\n",
    "#objective function taken from Dr. Hahsler \n",
    "# with jit (cannot use some Python functions like sum)\n",
    "@njit()\n",
    "def comb2_jit(n): return n*(n-1)//2 # this is n choose 2 equivalent to math.comb(n, 2); // is int division\n",
    "\n",
    "@njit()\n",
    "def conflicts_jit(board):\n",
    "    \"\"\"Caclulate the number of conflicts, i.e., the objective function.\"\"\"\n",
    "\n",
    "    n = len(board)\n",
    " \n",
    "    cnt = [0] * (5 * n)\n",
    " \n",
    "    for i in range(n):\n",
    "        cnt[board[i]] += 1\n",
    "        cnt[(n) + (i + board[i])] += 1\n",
    "        cnt[(3 * n) + (i - board[i] + n)] += 1\n",
    " \n",
    "    conflicts = 0\n",
    "    for x in cnt:\n",
    "        conflicts += comb2_jit(x)\n",
    " \n",
    "    return conflicts"
   ]
  },
  {
   "cell_type": "code",
   "execution_count": 9,
   "metadata": {},
   "outputs": [
    {
     "name": "stdout",
     "output_type": "stream",
     "text": [
      "Board with 4 conflicts.\n"
     ]
    },
    {
     "data": {
      "image/png": "[encoded data removed]",
      "text/plain": [
       "<Figure size 432x288 with 1 Axes>"
      ]
     },
     "metadata": {},
     "output_type": "display_data"
    },
    {
     "name": "stdout",
     "output_type": "stream",
     "text": [
      "Board with 1 conflicts.\n"
     ]
    },
    {
     "data": {
      "image/png": "[encoded data removed]",
      "text/plain": [
       "<Figure size 432x288 with 1 Axes>"
      ]
     },
     "metadata": {},
     "output_type": "display_data"
    },
    {
     "name": "stdout",
     "output_type": "stream",
     "text": [
      "Queens (left to right) are at rows: [3 0 2 1]\n",
      "Number of conflicts: 1\n"
     ]
    }
   ],
   "source": [
    "# Code and description go here\n",
    "def steepest_ascend_hill_climbing(board):\n",
    "    n = len(board)\n",
    "    initial = conflicts_jit(board)\n",
    "    local_optimum = board.copy()\n",
    "    while True:\n",
    "        new_state = board.copy()\n",
    "        i = 0\n",
    "        for i in range(n):\n",
    "            q = 0\n",
    "            for q in range(n):\n",
    "                current_state = new_state.copy()\n",
    "                current_state[i] = q\n",
    "                local_move = conflicts_jit(current_state)\n",
    "                if(local_move < initial):\n",
    "                    new_state = current_state\n",
    "                    initial = local_move\n",
    "                    local_optimum = current_state     \n",
    "        break\n",
    "    return local_optimum\n",
    "\n",
    "board = random_board(4)\n",
    "show_board(board)\n",
    "new_board = steepest_ascend_hill_climbing(board)\n",
    "\n",
    "show_board(new_board)\n",
    "print(f\"Queens (left to right) are at rows: {new_board}\")\n",
    "print(f\"Number of conflicts: {conflicts_jit(new_board)}\")\n"
   ]
  },
  {
   "cell_type": "markdown",
   "metadata": {},
   "source": [
    "## Task 2: Stochastic Hill Climbing 1 [10 Points]\n",
    "\n",
    "Chooses randomly from among all uphill moves till you have reached a local optimum."
   ]
  },
  {
   "cell_type": "code",
   "execution_count": 137,
   "metadata": {},
   "outputs": [
    {
     "name": "stdout",
     "output_type": "stream",
     "text": [
      "Board with 3 conflicts.\n"
     ]
    },
    {
     "data": {
      "image/png": "[encoded data removed]",
      "text/plain": [
       "<Figure size 432x288 with 1 Axes>"
      ]
     },
     "metadata": {},
     "output_type": "display_data"
    },
    {
     "name": "stdout",
     "output_type": "stream",
     "text": [
      "Board with 2 conflicts.\n"
     ]
    },
    {
     "data": {
      "image/png": "[encoded data removed]",
      "text/plain": [
       "<Figure size 432x288 with 1 Axes>"
      ]
     },
     "metadata": {},
     "output_type": "display_data"
    },
    {
     "name": "stdout",
     "output_type": "stream",
     "text": [
      "Queens (left to right) are at rows: [1 4 4 0 0]\n",
      "Number of conflicts: 2\n"
     ]
    }
   ],
   "source": [
    "# Code and description go here\n",
    "import random\n",
    "\n",
    "def stochastic_hill_climbing1(board):\n",
    "    n = len(board)\n",
    "    initial = conflicts_jit(board)\n",
    "    local_optimum = board.copy()\n",
    "    uphill_moves = []\n",
    "    found = False\n",
    "    new_state = board.copy()\n",
    "    i = 0\n",
    "    size = 0\n",
    "    for i in range(n):\n",
    "        q = 0\n",
    "        for q in range(n):\n",
    "            current_state = new_state.copy()\n",
    "            current_state[i] = q\n",
    "            uphill_moves.append(current_state)\n",
    "            size += 1\n",
    "    while True:\n",
    "        #print(size)\n",
    "        random_move = random.randint(0,(size - 1))\n",
    "        #print(random_move)\n",
    "        random_board = uphill_moves[random_move]\n",
    "        local_move = conflicts_jit(random_board)\n",
    "        if(local_move < initial):\n",
    "            new_state = random_board\n",
    "            initial = local_move\n",
    "            local_optimum = random_board\n",
    "            found = True\n",
    "        if(found == True):\n",
    "            break\n",
    "        if(initial == 0):\n",
    "            break\n",
    "        \n",
    "    return local_optimum\n",
    "\n",
    "board = random_board(5)\n",
    "show_board(board)\n",
    "new_board = stochastic_hill_climbing1(board)\n",
    "\n",
    "show_board(new_board)\n",
    "print(f\"Queens (left to right) are at rows: {new_board}\")\n",
    "print(f\"Number of conflicts: {conflicts_jit(new_board)}\")\n"
   ]
  },
  {
   "cell_type": "markdown",
   "metadata": {},
   "source": [
    "## Task 3: Stochastic Hill Climbing 2 [20 Points]\n",
    "\n",
    "A popular version of stochastic hill climbing generates only a single random local neighbor at a time and accept it if it has a better objective function value than the current state. This is very efficient if each state has many possible successor states. This method is called \"First-choice hill climbing\" in the textbook.\n",
    "\n",
    "__Notes:__ \n",
    "\n",
    "* Detecting local optima is tricky! You can, for example, stop if you were not able to improve the objective function during the last $x$ tries."
   ]
  },
  {
   "cell_type": "code",
   "execution_count": 67,
   "metadata": {},
   "outputs": [
    {
     "name": "stdout",
     "output_type": "stream",
     "text": [
      "Board with 1 conflicts.\n"
     ]
    },
    {
     "data": {
      "image/png": "[encoded data removed]",
      "text/plain": [
       "<Figure size 432x288 with 1 Axes>"
      ]
     },
     "metadata": {},
     "output_type": "display_data"
    },
    {
     "name": "stdout",
     "output_type": "stream",
     "text": [
      "Board with 1 conflicts.\n"
     ]
    },
    {
     "data": {
      "image/png": "[encoded data removed]",
      "text/plain": [
       "<Figure size 432x288 with 1 Axes>"
      ]
     },
     "metadata": {},
     "output_type": "display_data"
    },
    {
     "name": "stdout",
     "output_type": "stream",
     "text": [
      "Queens (left to right) are at rows: [3 1 0 2]\n",
      "Number of conflicts: 1\n"
     ]
    }
   ],
   "source": [
    "# Code and description go here\n",
    "def stochastic_hill_climbing2(board):\n",
    "    n = len(board)\n",
    "    initial = conflicts_jit(board)\n",
    "    local_optimum = board.copy()\n",
    "    new_state = board.copy()\n",
    "    count = 0\n",
    "    while count < n * 1000:\n",
    "        row = random.randint(0, n - 1)\n",
    "        queen = random.randint(0, n - 1)\n",
    "        random_board = new_state.copy()\n",
    "        random_board[row] = queen\n",
    "        local_move = conflicts_jit(random_board)\n",
    "        count += 1\n",
    "        if(local_move < initial):\n",
    "            new_state = random_board\n",
    "            initial = local_move\n",
    "            local_optimum = random_board\n",
    "    return local_optimum\n",
    "\n",
    "board = random_board(4)\n",
    "show_board(board)\n",
    "new_board = stochastic_hill_climbing2(board)\n",
    "\n",
    "show_board(new_board)\n",
    "print(f\"Queens (left to right) are at rows: {new_board}\")\n",
    "print(f\"Number of conflicts: {conflicts_jit(new_board)}\")\n",
    "\n"
   ]
  },
  {
   "cell_type": "markdown",
   "metadata": {},
   "source": [
    "## Task 4: Hill Climbing Search with Random Restarts [10 Points]\n",
    "\n",
    "Hill climbing will often end up in local optima. Restart the each of the three hill climbing algorithm up to 100 times with a random board to find a better (hopefully optimal) solution. Note that restart just means to run the algoithm several times starting with a new random board."
   ]
  },
  {
   "cell_type": "code",
   "execution_count": 139,
   "metadata": {},
   "outputs": [
    {
     "name": "stdout",
     "output_type": "stream",
     "text": [
      "Size of board:  8\n",
      "Initial board\n",
      "Board with 11 conflicts.\n"
     ]
    },
    {
     "data": {
      "image/png": "[encoded data removed]",
      "text/plain": [
       "<Figure size 432x288 with 1 Axes>"
      ]
     },
     "metadata": {},
     "output_type": "display_data"
    },
    {
     "name": "stderr",
     "output_type": "stream",
     "text": [
      "run: 100/100"
     ]
    },
    {
     "name": "stdout",
     "output_type": "stream",
     "text": [
      "Steepest Ascend Hill Climbing found a local optima at run:  11\n",
      "Board with 0 conflicts.\n"
     ]
    },
    {
     "data": {
      "image/png": "[encoded data removed]",
      "text/plain": [
       "<Figure size 432x288 with 1 Axes>"
      ]
     },
     "metadata": {},
     "output_type": "display_data"
    },
    {
     "name": "stdout",
     "output_type": "stream",
     "text": [
      "Stochastic Hill Climbing1 found a local optima at run:  71\n",
      "Board with 1 conflicts.\n"
     ]
    },
    {
     "data": {
      "image/png": "[encoded data removed]",
      "text/plain": [
       "<Figure size 432x288 with 1 Axes>"
      ]
     },
     "metadata": {},
     "output_type": "display_data"
    },
    {
     "name": "stdout",
     "output_type": "stream",
     "text": [
      "Stochastic Hill Climbing2 found a local optima at run:  9\n",
      "Board with 0 conflicts.\n"
     ]
    },
    {
     "data": {
      "image/png": "[encoded data removed]",
      "text/plain": [
       "<Figure size 432x288 with 1 Axes>"
      ]
     },
     "metadata": {},
     "output_type": "display_data"
    }
   ],
   "source": [
    "# Code and description go here\n",
    "import random \n",
    "import sys\n",
    "\n",
    "board_size = random.randint(4, 20)\n",
    "SAHC_lo = 0\n",
    "SHC1_lo = 0\n",
    "SHC2_lo = 0\n",
    "board = random_board(board_size)\n",
    "SAHC_board = board.copy()\n",
    "SHC1_board = board.copy()\n",
    "SHC2_board = board.copy()\n",
    "print(\"Size of board: \", board_size)\n",
    "print(\"Initial board\")\n",
    "show_board(board)\n",
    "initial_SAHC = conflicts_jit(board)\n",
    "initial_SHC1 = conflicts_jit(board)\n",
    "initial_SHC2 = conflicts_jit(board)\n",
    "for i in range(100):\n",
    "    \n",
    "    if i>0:\n",
    "        sys.stderr.write('\\rrun: %d/%d' % (i+1, 100))\n",
    "        sys.stderr.flush()\n",
    "                \n",
    "    board = random_board(board_size)\n",
    "    \n",
    "    SAHC = steepest_ascend_hill_climbing(board)\n",
    "    SAHC_conflicts = conflicts_jit(SAHC)\n",
    "    if(SAHC_conflicts < initial_SAHC):\n",
    "        initial_SAHC = SAHC_conflicts\n",
    "        SAHC_lo = i\n",
    "        SAHC_board = SAHC\n",
    "        \n",
    "    SHC1 = stochastic_hill_climbing1(board)\n",
    "    SHC1_conflicts = conflicts_jit(SHC1)\n",
    "    if(SHC1_conflicts < initial_SHC1):\n",
    "        initial_SHC1 = SHC1_conflicts\n",
    "        SHC1_lo = i\n",
    "        SHC1_board = SHC1\n",
    "        \n",
    "    SHC2 = stochastic_hill_climbing2(board)\n",
    "    SHC2_conflicts = conflicts_jit(SHC2)\n",
    "    if(SHC2_conflicts < initial_SHC2):\n",
    "        initial_SHC2 = SHC2_conflicts\n",
    "        SHC2_lo = i\n",
    "        SHC2_board = SHC2\n",
    "\n",
    "print(\"Steepest Ascend Hill Climbing found a local optima at run: \", SAHC_lo)\n",
    "show_board(SAHC_board)\n",
    "\n",
    "print(\"Stochastic Hill Climbing1 found a local optima at run: \", SHC1_lo)\n",
    "show_board(SHC1_board)\n",
    "\n",
    "print(\"Stochastic Hill Climbing2 found a local optima at run: \", SHC2_lo)\n",
    "show_board(SHC2_board)"
   ]
  },
  {
   "cell_type": "markdown",
   "metadata": {},
   "source": [
    "## Task 5: Compare Performance [20 Points]\n",
    "\n",
    "Use runtime and objective function value to compare the algorithms. \n",
    "\n",
    "* Use boards of different sizes to explore how the different algorithms perform. Make sure that you run the algorithms for each board size several times (at least 10 times) with different starting boards and report averages.\n",
    "\n",
    "* How do the algorithms scale with problem size? Use tables and charts.\n",
    "\n",
    "* What is the largest board each algorithm can solve in a reasonable amount time?\n",
    "\n",
    "See [Profiling Python Code](../Python_Code_Examples/profiling_code.ipynb) for help about how to measure runtime in Python."
   ]
  },
  {
   "cell_type": "code",
   "execution_count": 8,
   "metadata": {},
   "outputs": [],
   "source": [
    "# Code, results, charts and discussion go here\n"
   ]
  },
  {
   "cell_type": "markdown",
   "metadata": {},
   "source": [
    "## Graduate student advanced task: Simulated Annealing [10 Points]\n",
    "\n",
    "__Undergraduate students:__ This is a bonus task you can attempt if you like [+5 Bonus Points].\n",
    "\n",
    "Simulated annealing is a form of stochastic hill climbing that avoid local optima by also allowing downhill moves with a probability proportional to a temperature. The temperature is decreased in every iteration following an annealing schedule. You have to experiment with the annealing schedule (Google to find guidance on this).\n",
    "\n",
    "\n",
    "1. Implement simulated annealing for the n-Queens problem.\n",
    "2. Compare the performance with the previous algorithms. \n",
    "2. Discuss your choice of annealing schedule."
   ]
  },
  {
   "cell_type": "code",
   "execution_count": 9,
   "metadata": {
    "tags": []
   },
   "outputs": [],
   "source": [
    "# Code and description go here\n"
   ]
  },
  {
   "cell_type": "markdown",
   "metadata": {},
   "source": [
    "## More things to do\n",
    "\n",
    "Implement a Genetic Algorithm for the n-Queens problem."
   ]
  },
  {
   "cell_type": "code",
   "execution_count": 10,
   "metadata": {
    "tags": []
   },
   "outputs": [],
   "source": [
    "# Code and description go here"
   ]
  }
 ],
 "metadata": {
  "kernelspec": {
   "display_name": "Python 3 (ipykernel)",
   "language": "python",
   "name": "python3"
  },
  "language_info": {
   "codemirror_mode": {
    "name": "ipython",
    "version": 3
   },
   "file_extension": ".py",
   "mimetype": "text/x-python",
   "name": "python",
   "nbconvert_exporter": "python",
   "pygments_lexer": "ipython3",
   "version": "3.9.12"
  },
  "toc-autonumbering": false,
  "toc-showcode": false,
  "toc-showmarkdowntxt": false,
  "toc-showtags": false
 },
 "nbformat": 4,
 "nbformat_minor": 4
}
